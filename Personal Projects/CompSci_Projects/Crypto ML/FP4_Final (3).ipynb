{
 "cells": [
  {
   "cell_type": "markdown",
   "metadata": {},
   "source": [
    "<center> <h2> DS 3000 - Summer 2020</h2> </center>\n",
    "<center> <h3> DS Report </h3> </center>\n"
   ]
  },
  {
   "cell_type": "markdown",
   "metadata": {},
   "source": [
    "<center> <h3>Crypto Market Behaviors</h3> </center>\n",
    "<center><h4>David Mberingabo, Manami Kanemura, Mark Shomakhov</h4></center>\n"
   ]
  },
  {
   "cell_type": "markdown",
   "metadata": {},
   "source": [
    "  "
   ]
  },
  {
   "cell_type": "markdown",
   "metadata": {},
   "source": [
    "<hr style=\"height:2px; border:none; color:black; background-color:black;\">"
   ]
  },
  {
   "cell_type": "markdown",
   "metadata": {},
   "source": [
    "#### Executive Summary:\n",
    "\n",
    "In this report, we use filled order-book trades to compute new features, targets and a predictive model for predicting mid-price movements in real cryptocurrency markets. We describe our feature extraction methods such as One-Hot Encoding. We used GridSearch to tune our cetegorization model for the best scaler, selector and classifier. We present and discuss our best model's results such as predictive accuracy on both training and testing data sets for each regression and categorization analysis function we use.\n"
   ]
  },
  {
   "cell_type": "markdown",
   "metadata": {},
   "source": [
    "<hr style=\"height:2px; border:none; color:black; background-color:black;\">"
   ]
  },
  {
   "cell_type": "markdown",
   "metadata": {},
   "source": [
    "## Outline\n",
    "1. <a href='#1'>INTRODUCTION</a>\n",
    "2. <a href='#2'>METHOD</a>\n",
    "3. <a href='#3'>RESULTS - Classification</a>\n",
    "4. <a href='#3'>RESULTS - Regression</a>\n",
    "5. <a href='#4'>DISCUSSION</a>"
   ]
  },
  {
   "cell_type": "markdown",
   "metadata": {},
   "source": [
    "<a id=\"1\"></a>\n",
    "<hr style=\"height:2px; border:none; color:black; background-color:black;\">"
   ]
  },
  {
   "cell_type": "markdown",
   "metadata": {},
   "source": [
    "## 1. INTRODUCTION"
   ]
  },
  {
   "cell_type": "markdown",
   "metadata": {},
   "source": [
    "### &emsp; 1.1. Problem Statement\n",
    "\n",
    "For our Regression Problem, we use a filled orders dataset from the Genimi exchange and analyze the relationship of volume and mean amount of transaction over a period of time. For our Classification Problem, we use unsupervised learning machine algorithms such as clustering to create features and visualizations, and we use those features and others in classification models for predicting our target variable (mid-price movement over 4 hours). We believe classification of price movements to be the most effective use of ML with this kind of data, and so for the sake of time we only tuned our classification models.\n",
    "  "
   ]
  },
  {
   "cell_type": "markdown",
   "metadata": {},
   "source": [
    "### &emsp; 1.2. Significance of Problem\n",
    "For many years people have tried to understand the world and create a model which can explain everything. But for now it is impossible. And the center part of this problem is relationships between objects and forces which affect others. And financial markets (here cryptocurrency markets since their availability and ease of use) are the great opportunity for us as students to start to study this field. We can try, at least with some level of confidence and probability, to understand the market and users behavior and use it in future. To use this path we made in other fields. Or if we do this well enough we can at least earn some money if we use this research to make a trading model.\n",
    "\n",
    "**Synthesize previous research**\n",
    "\n",
    "We consulted \"Machine Learning for Forecasting Mid Price Movement using Limit Order Book Data\" by Paraskevi Nousi and co (https://arxiv.org/pdf/1809.07861.pdf). They found that \"Machine Learning techniques are capable of correctly predicting mid price movements\". We used their advise on using mid-price movements, spread and depth."
   ]
  },
  {
   "cell_type": "markdown",
   "metadata": {},
   "source": [
    "### &emsp; 1.3. Questions and Hypotheses\n",
    "\n",
    "1. The volume, which represents the total amount of transactions, will increase every two weeks because people  receive their salary.\n",
    "2. Which features are most correlated with each other?\n",
    "3. Trade volumes and prices affect market behavior such as: \n",
    "    - During periods where price is INCREASING (more than in general) mostly BUY orders are going to be filled. \n",
    "    - During periods where price is DECREASING (more than in general) mostly SELL orders are going to be filled.\n",
    "    - During periods where price is INCREASING (more than in general) mostly SELL orders are going to be filled. \n",
    "    - During periods where price is DECREASING (more than in general) mostly BUY orders are going to be filled.\n",
    "4. Which classification models best predict 4 hour mid-price movement?\n",
    "5. Hypotheses: Our best classification model will be 60% accurate or more. \n",
    "    - H0: Our best classification model is less than 60% accurate.\n"
   ]
  },
  {
   "cell_type": "markdown",
   "metadata": {},
   "source": [
    "<a id=\"2\"></a>\n",
    "<hr style=\"height:2px; border:none; color:black; background-color:black;\">"
   ]
  },
  {
   "cell_type": "markdown",
   "metadata": {},
   "source": [
    "## 2. METHOD"
   ]
  },
  {
   "cell_type": "markdown",
   "metadata": {},
   "source": [
    "### 2.1. Data Acquisition\n",
    "\n",
    "Our dataset was obtained from https://www.cryptodatadownload.com/cdd/tradeprints/Gemini_BTCUSD_tradeprints_Q4_2019.csv.\n",
    "\n",
    "This website contains a lot of different data about all cryptocurrencies for free and is well trusted. We added this dataset to our repository in GitHub (https://github.com/drakstik/ds3000/tree/master/FinalProject).\n",
    "\n",
    "The dataset has all the actual trades that occured on Gemini since September 2019. It has approximately 700,000 samples (trades).\n"
   ]
  },
  {
   "cell_type": "code",
   "execution_count": 21,
   "metadata": {
    "ExecuteTime": {
     "end_time": "2020-06-18T05:26:40.994055Z",
     "start_time": "2020-06-18T05:26:32.438534Z"
    }
   },
   "outputs": [
    {
     "data": {
      "text/html": [
       "<div>\n",
       "<style scoped>\n",
       "    .dataframe tbody tr th:only-of-type {\n",
       "        vertical-align: middle;\n",
       "    }\n",
       "\n",
       "    .dataframe tbody tr th {\n",
       "        vertical-align: top;\n",
       "    }\n",
       "\n",
       "    .dataframe thead th {\n",
       "        text-align: right;\n",
       "    }\n",
       "</style>\n",
       "<table border=\"1\" class=\"dataframe\">\n",
       "  <thead>\n",
       "    <tr style=\"text-align: right;\">\n",
       "      <th></th>\n",
       "      <th>unix</th>\n",
       "      <th>TradeDate</th>\n",
       "      <th>symbol</th>\n",
       "      <th>price</th>\n",
       "      <th>amount</th>\n",
       "      <th>type</th>\n",
       "    </tr>\n",
       "  </thead>\n",
       "  <tbody>\n",
       "    <tr>\n",
       "      <th>0</th>\n",
       "      <td>1567296063967</td>\n",
       "      <td>2019-09-01 00:01:03</td>\n",
       "      <td>BTCUSD</td>\n",
       "      <td>9598.28</td>\n",
       "      <td>0.005686</td>\n",
       "      <td>buy</td>\n",
       "    </tr>\n",
       "    <tr>\n",
       "      <th>1</th>\n",
       "      <td>1567296147040</td>\n",
       "      <td>2019-09-01 00:02:27</td>\n",
       "      <td>BTCUSD</td>\n",
       "      <td>9602.25</td>\n",
       "      <td>0.018967</td>\n",
       "      <td>buy</td>\n",
       "    </tr>\n",
       "    <tr>\n",
       "      <th>2</th>\n",
       "      <td>1567296304372</td>\n",
       "      <td>2019-09-01 00:05:04</td>\n",
       "      <td>BTCUSD</td>\n",
       "      <td>9616.12</td>\n",
       "      <td>0.020000</td>\n",
       "      <td>buy</td>\n",
       "    </tr>\n",
       "    <tr>\n",
       "      <th>3</th>\n",
       "      <td>1567296350580</td>\n",
       "      <td>2019-09-01 00:05:50</td>\n",
       "      <td>BTCUSD</td>\n",
       "      <td>9619.22</td>\n",
       "      <td>0.687976</td>\n",
       "      <td>buy</td>\n",
       "    </tr>\n",
       "    <tr>\n",
       "      <th>4</th>\n",
       "      <td>1567296382476</td>\n",
       "      <td>2019-09-01 00:06:22</td>\n",
       "      <td>BTCUSD</td>\n",
       "      <td>9615.58</td>\n",
       "      <td>0.008051</td>\n",
       "      <td>buy</td>\n",
       "    </tr>\n",
       "    <tr>\n",
       "      <th>5</th>\n",
       "      <td>1567296385273</td>\n",
       "      <td>2019-09-01 00:06:25</td>\n",
       "      <td>BTCUSD</td>\n",
       "      <td>9615.07</td>\n",
       "      <td>0.003031</td>\n",
       "      <td>buy</td>\n",
       "    </tr>\n",
       "    <tr>\n",
       "      <th>6</th>\n",
       "      <td>1567296391867</td>\n",
       "      <td>2019-09-01 00:06:31</td>\n",
       "      <td>BTCUSD</td>\n",
       "      <td>9615.07</td>\n",
       "      <td>0.001040</td>\n",
       "      <td>buy</td>\n",
       "    </tr>\n",
       "    <tr>\n",
       "      <th>7</th>\n",
       "      <td>1567296541443</td>\n",
       "      <td>2019-09-01 00:09:01</td>\n",
       "      <td>BTCUSD</td>\n",
       "      <td>9612.52</td>\n",
       "      <td>0.015217</td>\n",
       "      <td>buy</td>\n",
       "    </tr>\n",
       "    <tr>\n",
       "      <th>8</th>\n",
       "      <td>1567296567990</td>\n",
       "      <td>2019-09-01 00:09:27</td>\n",
       "      <td>BTCUSD</td>\n",
       "      <td>9610.79</td>\n",
       "      <td>0.010044</td>\n",
       "      <td>buy</td>\n",
       "    </tr>\n",
       "    <tr>\n",
       "      <th>9</th>\n",
       "      <td>1567296611921</td>\n",
       "      <td>2019-09-01 00:10:11</td>\n",
       "      <td>BTCUSD</td>\n",
       "      <td>9610.95</td>\n",
       "      <td>0.050994</td>\n",
       "      <td>buy</td>\n",
       "    </tr>\n",
       "  </tbody>\n",
       "</table>\n",
       "</div>"
      ],
      "text/plain": [
       "            unix            TradeDate  symbol    price    amount type\n",
       "0  1567296063967  2019-09-01 00:01:03  BTCUSD  9598.28  0.005686  buy\n",
       "1  1567296147040  2019-09-01 00:02:27  BTCUSD  9602.25  0.018967  buy\n",
       "2  1567296304372  2019-09-01 00:05:04  BTCUSD  9616.12  0.020000  buy\n",
       "3  1567296350580  2019-09-01 00:05:50  BTCUSD  9619.22  0.687976  buy\n",
       "4  1567296382476  2019-09-01 00:06:22  BTCUSD  9615.58  0.008051  buy\n",
       "5  1567296385273  2019-09-01 00:06:25  BTCUSD  9615.07  0.003031  buy\n",
       "6  1567296391867  2019-09-01 00:06:31  BTCUSD  9615.07  0.001040  buy\n",
       "7  1567296541443  2019-09-01 00:09:01  BTCUSD  9612.52  0.015217  buy\n",
       "8  1567296567990  2019-09-01 00:09:27  BTCUSD  9610.79  0.010044  buy\n",
       "9  1567296611921  2019-09-01 00:10:11  BTCUSD  9610.95  0.050994  buy"
      ]
     },
     "execution_count": 21,
     "metadata": {},
     "output_type": "execute_result"
    }
   ],
   "source": [
    "import pandas as pd\n",
    "\n",
    "data = pd.read_csv('https://raw.githubusercontent.com/drakstik/DS3000FinalRes/master/Gemini_BTCUSD_tradeprints_Q4_2019.csv', na_values = ['nan']).iloc[::-1].reset_index(drop=True).drop('trans_id', axis=1)\n",
    "data.head(10)"
   ]
  },
  {
   "cell_type": "code",
   "execution_count": 22,
   "metadata": {
    "ExecuteTime": {
     "end_time": "2020-06-18T05:26:40.997524Z",
     "start_time": "2020-06-18T05:26:40.995176Z"
    }
   },
   "outputs": [
    {
     "data": {
      "text/plain": [
       "(765528, 6)"
      ]
     },
     "execution_count": 22,
     "metadata": {},
     "output_type": "execute_result"
    }
   ],
   "source": [
    "data.shape"
   ]
  },
  {
   "cell_type": "markdown",
   "metadata": {},
   "source": [
    "### 2.2. Variables\n",
    "We identified price movements (up or down) as our target/outcome variable for unsupervised predictive models. We chose the period as our Independent Variable, while features such as mean_amount, future price movement and total order type as Dependent Variables for our hypotheses and questions.\n"
   ]
  },
  {
   "cell_type": "markdown",
   "metadata": {},
   "source": [
    "### 2.3. Data Analysis\n",
    "We have two models, a regression model and a classification model. The regression model is used to predict the mean_amount and the classification model is used to predict the mip-price movement. For the regression model we start with these features ['volume', 'min_sell', 'max_buy', 'spread'] and finally select max_buy and spread. For classification we run a gridSearch() function running a scalor, selector and classifier, and the combination of parameters, and we present which combination of parameters works best. Features for the classification model are ['TradeDate', 'mid_price', 'mean_price', 'volume', 'p_v_avg', 'p_v_std', 'buy_volume_1%', 'sell_volume_1%', 'buy_volume_3%', 'sell_volume_3%', 'buy_volume_5%', 'sell_volume_5%', 'buy_volume_10%', 'sell_volume_10%', 'spread', 'std_price', 'price_log_avg', 'price_log_std', 'type_auction', 'type_block', 'type_buy', 'type_sell', average and standard deviation of price derivatives for the past 1000, 500, 200, 100, 50, 20, 10, 5 and 1 ticks]."
   ]
  },
  {
   "cell_type": "markdown",
   "metadata": {},
   "source": [
    "<a id=\"3\"></a>\n",
    "<hr style=\"height:2px; border:none; color:black; background-color:black;\">"
   ]
  },
  {
   "cell_type": "markdown",
   "metadata": {},
   "source": [
    "## 3. RESULTS - Classification"
   ]
  },
  {
   "cell_type": "markdown",
   "metadata": {},
   "source": [
    "### 3.1. Data Wrangling\n",
    "Our dataset requires One Hot Encoding for some variables in order for us to do regression analysis. The dataset also requires more features to be created. We need a function that creates features given a period-frequency (30 min, 60 min, etc...) after applying One Hot Encoding.\n",
    "\n",
    "*Description of Unprocessed Features*\n",
    "\n",
    "\"\\[feature_name\\]\": \\[description\\]\n",
    "- “unix”: UNIX timestamp corresponding to date in each row\n",
    "- “TradeDate”: Date on which each trade was made\n",
    "- \"symbol\": type of cryptocurrency and real money. This dataset is Bitcoin and us dollar. \n",
    "- \"amount\": Amount of btc sold or bought\n",
    "- \"type\": if the trade was for buying or selling"
   ]
  },
  {
   "cell_type": "code",
   "execution_count": 4,
   "metadata": {
    "ExecuteTime": {
     "end_time": "2020-06-18T05:11:35.760883Z",
     "start_time": "2020-06-18T05:11:35.537462Z"
    },
    "scrolled": true
   },
   "outputs": [
    {
     "data": {
      "text/html": [
       "<div>\n",
       "<style scoped>\n",
       "    .dataframe tbody tr th:only-of-type {\n",
       "        vertical-align: middle;\n",
       "    }\n",
       "\n",
       "    .dataframe tbody tr th {\n",
       "        vertical-align: top;\n",
       "    }\n",
       "\n",
       "    .dataframe thead th {\n",
       "        text-align: right;\n",
       "    }\n",
       "</style>\n",
       "<table border=\"1\" class=\"dataframe\">\n",
       "  <thead>\n",
       "    <tr style=\"text-align: right;\">\n",
       "      <th></th>\n",
       "      <th>unix</th>\n",
       "      <th>TradeDate</th>\n",
       "      <th>symbol</th>\n",
       "      <th>price</th>\n",
       "      <th>amount</th>\n",
       "      <th>type_auction</th>\n",
       "      <th>type_block</th>\n",
       "      <th>type_buy</th>\n",
       "      <th>type_sell</th>\n",
       "    </tr>\n",
       "  </thead>\n",
       "  <tbody>\n",
       "    <tr>\n",
       "      <th>0</th>\n",
       "      <td>1567296063967</td>\n",
       "      <td>2019-09-01 00:01:03</td>\n",
       "      <td>BTCUSD</td>\n",
       "      <td>9598.28</td>\n",
       "      <td>0.005686</td>\n",
       "      <td>0</td>\n",
       "      <td>0</td>\n",
       "      <td>1</td>\n",
       "      <td>0</td>\n",
       "    </tr>\n",
       "    <tr>\n",
       "      <th>1</th>\n",
       "      <td>1567296147040</td>\n",
       "      <td>2019-09-01 00:02:27</td>\n",
       "      <td>BTCUSD</td>\n",
       "      <td>9602.25</td>\n",
       "      <td>0.018967</td>\n",
       "      <td>0</td>\n",
       "      <td>0</td>\n",
       "      <td>1</td>\n",
       "      <td>0</td>\n",
       "    </tr>\n",
       "    <tr>\n",
       "      <th>2</th>\n",
       "      <td>1567296304372</td>\n",
       "      <td>2019-09-01 00:05:04</td>\n",
       "      <td>BTCUSD</td>\n",
       "      <td>9616.12</td>\n",
       "      <td>0.020000</td>\n",
       "      <td>0</td>\n",
       "      <td>0</td>\n",
       "      <td>1</td>\n",
       "      <td>0</td>\n",
       "    </tr>\n",
       "    <tr>\n",
       "      <th>3</th>\n",
       "      <td>1567296350580</td>\n",
       "      <td>2019-09-01 00:05:50</td>\n",
       "      <td>BTCUSD</td>\n",
       "      <td>9619.22</td>\n",
       "      <td>0.687976</td>\n",
       "      <td>0</td>\n",
       "      <td>0</td>\n",
       "      <td>1</td>\n",
       "      <td>0</td>\n",
       "    </tr>\n",
       "    <tr>\n",
       "      <th>4</th>\n",
       "      <td>1567296382476</td>\n",
       "      <td>2019-09-01 00:06:22</td>\n",
       "      <td>BTCUSD</td>\n",
       "      <td>9615.58</td>\n",
       "      <td>0.008051</td>\n",
       "      <td>0</td>\n",
       "      <td>0</td>\n",
       "      <td>1</td>\n",
       "      <td>0</td>\n",
       "    </tr>\n",
       "  </tbody>\n",
       "</table>\n",
       "</div>"
      ],
      "text/plain": [
       "            unix           TradeDate  symbol    price    amount  type_auction  \\\n",
       "0  1567296063967 2019-09-01 00:01:03  BTCUSD  9598.28  0.005686             0   \n",
       "1  1567296147040 2019-09-01 00:02:27  BTCUSD  9602.25  0.018967             0   \n",
       "2  1567296304372 2019-09-01 00:05:04  BTCUSD  9616.12  0.020000             0   \n",
       "3  1567296350580 2019-09-01 00:05:50  BTCUSD  9619.22  0.687976             0   \n",
       "4  1567296382476 2019-09-01 00:06:22  BTCUSD  9615.58  0.008051             0   \n",
       "\n",
       "   type_block  type_buy  type_sell  \n",
       "0           0         1          0  \n",
       "1           0         1          0  \n",
       "2           0         1          0  \n",
       "3           0         1          0  \n",
       "4           0         1          0  "
      ]
     },
     "execution_count": 4,
     "metadata": {},
     "output_type": "execute_result"
    }
   ],
   "source": [
    "data.TradeDate = pd.to_datetime(data.TradeDate)\n",
    "data = data.rename(columns={'type': 'typee'})\n",
    "\n",
    "# One Hot Encoding the variable 'type'\n",
    "data = pd.concat([data, pd.get_dummies(data['typee'], prefix='type')], axis=1)\n",
    "data.drop(['typee'], axis=1, inplace=True)\n",
    "data.head()"
   ]
  },
  {
   "cell_type": "code",
   "execution_count": 5,
   "metadata": {
    "ExecuteTime": {
     "end_time": "2020-06-18T05:11:35.770338Z",
     "start_time": "2020-06-18T05:11:35.762058Z"
    }
   },
   "outputs": [],
   "source": [
    "import numpy as np\n",
    "\n",
    "def cleaning(df):\n",
    "    # Delete NaN values\n",
    "    df.dropna(inplace=True)\n",
    "    return df.reset_index(drop=True)\n",
    "\n",
    "def create_simple_features(df):\n",
    "    # Log of price\n",
    "    df['price_log'] = df.price.apply(np.log)\n",
    "    # Price * Volume\n",
    "    df['p_v'] = (df.price * df.amount).apply(np.log)\n",
    "    # Price difference(in perc)\n",
    "    df['p_diff_1'] = df.price.pct_change(1) \n",
    "    # Price difference(in perc) 5 ticks\n",
    "    df['p_diff_5'] = df.price.pct_change(5) \n",
    "    # Price difference(in perc) 10 ticks\n",
    "    df['p_diff_10'] = df.price.pct_change(10) \n",
    "    # Price difference(in perc) 20 ticks\n",
    "    df['p_diff_20'] = df.price.pct_change(20) \n",
    "    # Price difference(in perc) 50 ticks\n",
    "    df['p_diff_50'] = df.price.pct_change(50) \n",
    "    # Price difference(in perc) 100 ticks\n",
    "    df['p_diff_100'] = df.price.pct_change(100) \n",
    "    # Price difference(in perc) 200 ticks\n",
    "    df['p_diff_200'] = df.price.pct_change(200) \n",
    "    # Price difference(in perc) 500 ticks\n",
    "    df['p_diff_500'] = df.price.pct_change(500)\n",
    "    # Price difference(in perc) 1000 ticks\n",
    "    df['p_diff_1000'] = df.price.pct_change(1000)\n",
    "    # Volume difference(in perc) 1 tick\n",
    "    df['v_diff_1'] = df.amount.pct_change(1) \n",
    "    # Volume difference(in perc) 5 tick\n",
    "    df['v_diff_5'] = df.amount.pct_change(5) \n",
    "    # Moving Average of Price\n",
    "    df['p_sma_5'] = df.price.rolling(5).mean()\n",
    "    # Moving Average of Price\n",
    "    df['p_sma_10'] = df.price.rolling(10).mean()\n",
    "    # Moving Average of Price\n",
    "    df['p_sma_50'] = df.price.rolling(50).mean()\n",
    "    # Moving Average of Price\n",
    "    df['p_sma_100'] = df.price.rolling(100).mean()\n",
    "    # Moving Average of Price\n",
    "    df['p_sma_500'] = df.price.rolling(500).mean()\n",
    "    # Derivatives of price difference\n",
    "    df['p_diff2_5'] = df.p_diff_5.pct_change(5) \n",
    "    df['p_diff2_10'] = df.p_diff_10.pct_change(10) \n",
    "    df['p_diff2_20'] = df.p_diff_20.pct_change(20) \n",
    "    df['p_diff2_50'] = df.p_diff_50.pct_change(50) \n",
    "    df['p_diff2_100'] = df.p_diff_100.pct_change(100) \n",
    "    df['p_diff2_200'] = df.p_diff_200.pct_change(200) \n",
    "    df['p_diff2_500'] = df.p_diff_500.pct_change(500)\n",
    "    df['p_diff2_1000'] = df.p_diff_1000.pct_change(1000)\n",
    "    # Time difference 1 tick\n",
    "    df['t_diff_1'] = df.price.diff(1)\n",
    "    # Time difference 10 tick\n",
    "    df['t_diff_10'] = df.price.diff(10)\n",
    "    # Time difference 50 tick\n",
    "    df['t_diff_50'] = df.price.diff(50)\n",
    "    # Time difference 100 tick\n",
    "    df['t_diff_100'] = df.price.diff(100)\n",
    "    \n",
    "    return df"
   ]
  },
  {
   "cell_type": "code",
   "execution_count": 6,
   "metadata": {
    "ExecuteTime": {
     "end_time": "2020-06-18T05:11:36.839378Z",
     "start_time": "2020-06-18T05:11:35.771466Z"
    }
   },
   "outputs": [
    {
     "data": {
      "text/html": [
       "<div>\n",
       "<style scoped>\n",
       "    .dataframe tbody tr th:only-of-type {\n",
       "        vertical-align: middle;\n",
       "    }\n",
       "\n",
       "    .dataframe tbody tr th {\n",
       "        vertical-align: top;\n",
       "    }\n",
       "\n",
       "    .dataframe thead th {\n",
       "        text-align: right;\n",
       "    }\n",
       "</style>\n",
       "<table border=\"1\" class=\"dataframe\">\n",
       "  <thead>\n",
       "    <tr style=\"text-align: right;\">\n",
       "      <th></th>\n",
       "      <th>unix</th>\n",
       "      <th>TradeDate</th>\n",
       "      <th>symbol</th>\n",
       "      <th>price</th>\n",
       "      <th>amount</th>\n",
       "      <th>type_auction</th>\n",
       "      <th>type_block</th>\n",
       "      <th>type_buy</th>\n",
       "      <th>type_sell</th>\n",
       "      <th>price_log</th>\n",
       "      <th>...</th>\n",
       "      <th>p_diff2_20</th>\n",
       "      <th>p_diff2_50</th>\n",
       "      <th>p_diff2_100</th>\n",
       "      <th>p_diff2_200</th>\n",
       "      <th>p_diff2_500</th>\n",
       "      <th>p_diff2_1000</th>\n",
       "      <th>t_diff_1</th>\n",
       "      <th>t_diff_10</th>\n",
       "      <th>t_diff_50</th>\n",
       "      <th>t_diff_100</th>\n",
       "    </tr>\n",
       "  </thead>\n",
       "  <tbody>\n",
       "    <tr>\n",
       "      <th>0</th>\n",
       "      <td>1567376460054</td>\n",
       "      <td>2019-09-01 22:21:00</td>\n",
       "      <td>BTCUSD</td>\n",
       "      <td>9742.55</td>\n",
       "      <td>0.001574</td>\n",
       "      <td>0</td>\n",
       "      <td>0</td>\n",
       "      <td>1</td>\n",
       "      <td>0</td>\n",
       "      <td>9.184258</td>\n",
       "      <td>...</td>\n",
       "      <td>-1.379088</td>\n",
       "      <td>-2.648075</td>\n",
       "      <td>-2.177963</td>\n",
       "      <td>-0.979193</td>\n",
       "      <td>13.685458</td>\n",
       "      <td>-17.868654</td>\n",
       "      <td>7.86</td>\n",
       "      <td>7.86</td>\n",
       "      <td>42.26</td>\n",
       "      <td>16.55</td>\n",
       "    </tr>\n",
       "    <tr>\n",
       "      <th>1</th>\n",
       "      <td>1567376492413</td>\n",
       "      <td>2019-09-01 22:21:32</td>\n",
       "      <td>BTCUSD</td>\n",
       "      <td>9742.55</td>\n",
       "      <td>0.402743</td>\n",
       "      <td>0</td>\n",
       "      <td>0</td>\n",
       "      <td>1</td>\n",
       "      <td>0</td>\n",
       "      <td>9.184258</td>\n",
       "      <td>...</td>\n",
       "      <td>-1.251039</td>\n",
       "      <td>-2.648075</td>\n",
       "      <td>-2.338535</td>\n",
       "      <td>-0.964499</td>\n",
       "      <td>7.824446</td>\n",
       "      <td>-7.580248</td>\n",
       "      <td>0.00</td>\n",
       "      <td>7.86</td>\n",
       "      <td>42.26</td>\n",
       "      <td>16.55</td>\n",
       "    </tr>\n",
       "    <tr>\n",
       "      <th>2</th>\n",
       "      <td>1567376492413</td>\n",
       "      <td>2019-09-01 22:21:32</td>\n",
       "      <td>BTCUSD</td>\n",
       "      <td>9742.55</td>\n",
       "      <td>0.166569</td>\n",
       "      <td>0</td>\n",
       "      <td>0</td>\n",
       "      <td>1</td>\n",
       "      <td>0</td>\n",
       "      <td>9.184258</td>\n",
       "      <td>...</td>\n",
       "      <td>-1.563851</td>\n",
       "      <td>-4.053339</td>\n",
       "      <td>-2.393628</td>\n",
       "      <td>-0.960157</td>\n",
       "      <td>6.424665</td>\n",
       "      <td>-6.784693</td>\n",
       "      <td>0.00</td>\n",
       "      <td>7.86</td>\n",
       "      <td>24.62</td>\n",
       "      <td>16.55</td>\n",
       "    </tr>\n",
       "    <tr>\n",
       "      <th>3</th>\n",
       "      <td>1567376574281</td>\n",
       "      <td>2019-09-01 22:22:54</td>\n",
       "      <td>BTCUSD</td>\n",
       "      <td>9744.07</td>\n",
       "      <td>0.269450</td>\n",
       "      <td>0</td>\n",
       "      <td>0</td>\n",
       "      <td>0</td>\n",
       "      <td>1</td>\n",
       "      <td>9.184414</td>\n",
       "      <td>...</td>\n",
       "      <td>-1.614035</td>\n",
       "      <td>-4.247408</td>\n",
       "      <td>-2.573162</td>\n",
       "      <td>-0.943634</td>\n",
       "      <td>7.162643</td>\n",
       "      <td>-7.806153</td>\n",
       "      <td>1.52</td>\n",
       "      <td>9.38</td>\n",
       "      <td>26.12</td>\n",
       "      <td>18.07</td>\n",
       "    </tr>\n",
       "    <tr>\n",
       "      <th>4</th>\n",
       "      <td>1567376588840</td>\n",
       "      <td>2019-09-01 22:23:08</td>\n",
       "      <td>BTCUSD</td>\n",
       "      <td>9751.24</td>\n",
       "      <td>0.020112</td>\n",
       "      <td>0</td>\n",
       "      <td>0</td>\n",
       "      <td>0</td>\n",
       "      <td>1</td>\n",
       "      <td>9.185150</td>\n",
       "      <td>...</td>\n",
       "      <td>-2.081260</td>\n",
       "      <td>-6.334101</td>\n",
       "      <td>-3.583851</td>\n",
       "      <td>-0.869413</td>\n",
       "      <td>6.532871</td>\n",
       "      <td>-8.291571</td>\n",
       "      <td>7.17</td>\n",
       "      <td>16.55</td>\n",
       "      <td>30.28</td>\n",
       "      <td>24.60</td>\n",
       "    </tr>\n",
       "  </tbody>\n",
       "</table>\n",
       "<p>5 rows × 39 columns</p>\n",
       "</div>"
      ],
      "text/plain": [
       "            unix           TradeDate  symbol    price    amount  type_auction  \\\n",
       "0  1567376460054 2019-09-01 22:21:00  BTCUSD  9742.55  0.001574             0   \n",
       "1  1567376492413 2019-09-01 22:21:32  BTCUSD  9742.55  0.402743             0   \n",
       "2  1567376492413 2019-09-01 22:21:32  BTCUSD  9742.55  0.166569             0   \n",
       "3  1567376574281 2019-09-01 22:22:54  BTCUSD  9744.07  0.269450             0   \n",
       "4  1567376588840 2019-09-01 22:23:08  BTCUSD  9751.24  0.020112             0   \n",
       "\n",
       "   type_block  type_buy  type_sell  price_log  ...  p_diff2_20  p_diff2_50  \\\n",
       "0           0         1          0   9.184258  ...   -1.379088   -2.648075   \n",
       "1           0         1          0   9.184258  ...   -1.251039   -2.648075   \n",
       "2           0         1          0   9.184258  ...   -1.563851   -4.053339   \n",
       "3           0         0          1   9.184414  ...   -1.614035   -4.247408   \n",
       "4           0         0          1   9.185150  ...   -2.081260   -6.334101   \n",
       "\n",
       "   p_diff2_100  p_diff2_200  p_diff2_500  p_diff2_1000  t_diff_1  t_diff_10  \\\n",
       "0    -2.177963    -0.979193    13.685458    -17.868654      7.86       7.86   \n",
       "1    -2.338535    -0.964499     7.824446     -7.580248      0.00       7.86   \n",
       "2    -2.393628    -0.960157     6.424665     -6.784693      0.00       7.86   \n",
       "3    -2.573162    -0.943634     7.162643     -7.806153      1.52       9.38   \n",
       "4    -3.583851    -0.869413     6.532871     -8.291571      7.17      16.55   \n",
       "\n",
       "   t_diff_50  t_diff_100  \n",
       "0      42.26       16.55  \n",
       "1      42.26       16.55  \n",
       "2      24.62       16.55  \n",
       "3      26.12       18.07  \n",
       "4      30.28       24.60  \n",
       "\n",
       "[5 rows x 39 columns]"
      ]
     },
     "execution_count": 6,
     "metadata": {},
     "output_type": "execute_result"
    }
   ],
   "source": [
    "data1 = cleaning(data)\n",
    "data2 = create_simple_features(data1)\n",
    "data3 = cleaning(data2)\n",
    "data3.head()"
   ]
  },
  {
   "cell_type": "code",
   "execution_count": 7,
   "metadata": {
    "ExecuteTime": {
     "end_time": "2020-06-18T05:12:20.836821Z",
     "start_time": "2020-06-18T05:11:36.840279Z"
    }
   },
   "outputs": [
    {
     "data": {
      "text/html": [
       "<div>\n",
       "<style scoped>\n",
       "    .dataframe tbody tr th:only-of-type {\n",
       "        vertical-align: middle;\n",
       "    }\n",
       "\n",
       "    .dataframe tbody tr th {\n",
       "        vertical-align: top;\n",
       "    }\n",
       "\n",
       "    .dataframe thead th {\n",
       "        text-align: right;\n",
       "    }\n",
       "</style>\n",
       "<table border=\"1\" class=\"dataframe\">\n",
       "  <thead>\n",
       "    <tr style=\"text-align: right;\">\n",
       "      <th></th>\n",
       "      <th>TradeDate</th>\n",
       "      <th>mid_price</th>\n",
       "      <th>mean_price</th>\n",
       "      <th>volume</th>\n",
       "      <th>p_v_avg</th>\n",
       "      <th>p_v_std</th>\n",
       "      <th>buy_volume_1%</th>\n",
       "      <th>sell_volume_1%</th>\n",
       "      <th>buy_volume_3%</th>\n",
       "      <th>sell_volume_3%</th>\n",
       "      <th>...</th>\n",
       "      <th>p_diff_50_avg</th>\n",
       "      <th>p_diff_50_std</th>\n",
       "      <th>p_diff_10_avg</th>\n",
       "      <th>p_diff_10_std</th>\n",
       "      <th>p_diff_20_avg</th>\n",
       "      <th>p_diff_20_std</th>\n",
       "      <th>p_diff_5_avg</th>\n",
       "      <th>p_diff_5_std</th>\n",
       "      <th>p_diff_1_avg</th>\n",
       "      <th>p_diff_1_std</th>\n",
       "    </tr>\n",
       "  </thead>\n",
       "  <tbody>\n",
       "    <tr>\n",
       "      <th>0</th>\n",
       "      <td>2019-09-01 23:21:00</td>\n",
       "      <td>9838.750</td>\n",
       "      <td>9797.149087</td>\n",
       "      <td>64.387832</td>\n",
       "      <td>4.661716</td>\n",
       "      <td>3.339237</td>\n",
       "      <td>54.972398</td>\n",
       "      <td>9.415434</td>\n",
       "      <td>54.972398</td>\n",
       "      <td>9.415434</td>\n",
       "      <td>...</td>\n",
       "      <td>0.001161</td>\n",
       "      <td>0.003356</td>\n",
       "      <td>0.000185</td>\n",
       "      <td>0.001580</td>\n",
       "      <td>0.000436</td>\n",
       "      <td>0.002143</td>\n",
       "      <td>0.000092</td>\n",
       "      <td>0.001190</td>\n",
       "      <td>1.815917e-05</td>\n",
       "      <td>0.000590</td>\n",
       "    </tr>\n",
       "    <tr>\n",
       "      <th>1</th>\n",
       "      <td>2019-09-02 00:21:00</td>\n",
       "      <td>9784.995</td>\n",
       "      <td>9772.549541</td>\n",
       "      <td>22.053730</td>\n",
       "      <td>5.014523</td>\n",
       "      <td>2.725616</td>\n",
       "      <td>14.722651</td>\n",
       "      <td>7.331078</td>\n",
       "      <td>14.722651</td>\n",
       "      <td>7.331078</td>\n",
       "      <td>...</td>\n",
       "      <td>-0.000377</td>\n",
       "      <td>0.002458</td>\n",
       "      <td>0.000004</td>\n",
       "      <td>0.000916</td>\n",
       "      <td>0.000042</td>\n",
       "      <td>0.001250</td>\n",
       "      <td>-0.000027</td>\n",
       "      <td>0.000682</td>\n",
       "      <td>-6.496234e-06</td>\n",
       "      <td>0.000347</td>\n",
       "    </tr>\n",
       "    <tr>\n",
       "      <th>2</th>\n",
       "      <td>2019-09-02 01:21:00</td>\n",
       "      <td>9783.645</td>\n",
       "      <td>9777.430000</td>\n",
       "      <td>4.990814</td>\n",
       "      <td>4.326182</td>\n",
       "      <td>2.030516</td>\n",
       "      <td>2.890299</td>\n",
       "      <td>2.100515</td>\n",
       "      <td>2.890299</td>\n",
       "      <td>2.100515</td>\n",
       "      <td>...</td>\n",
       "      <td>0.000058</td>\n",
       "      <td>0.001122</td>\n",
       "      <td>0.000026</td>\n",
       "      <td>0.000654</td>\n",
       "      <td>0.000018</td>\n",
       "      <td>0.000972</td>\n",
       "      <td>0.000036</td>\n",
       "      <td>0.000447</td>\n",
       "      <td>1.680126e-05</td>\n",
       "      <td>0.000232</td>\n",
       "    </tr>\n",
       "    <tr>\n",
       "      <th>3</th>\n",
       "      <td>2019-09-02 02:21:00</td>\n",
       "      <td>9775.240</td>\n",
       "      <td>9768.102234</td>\n",
       "      <td>6.599274</td>\n",
       "      <td>4.784383</td>\n",
       "      <td>1.936833</td>\n",
       "      <td>4.704690</td>\n",
       "      <td>1.894584</td>\n",
       "      <td>4.704690</td>\n",
       "      <td>1.894584</td>\n",
       "      <td>...</td>\n",
       "      <td>-0.000748</td>\n",
       "      <td>0.000752</td>\n",
       "      <td>-0.000074</td>\n",
       "      <td>0.000389</td>\n",
       "      <td>-0.000245</td>\n",
       "      <td>0.000527</td>\n",
       "      <td>-0.000024</td>\n",
       "      <td>0.000326</td>\n",
       "      <td>-4.405111e-08</td>\n",
       "      <td>0.000255</td>\n",
       "    </tr>\n",
       "    <tr>\n",
       "      <th>4</th>\n",
       "      <td>2019-09-02 03:21:00</td>\n",
       "      <td>9799.130</td>\n",
       "      <td>9787.730794</td>\n",
       "      <td>20.930695</td>\n",
       "      <td>4.589762</td>\n",
       "      <td>2.491224</td>\n",
       "      <td>17.961180</td>\n",
       "      <td>2.969515</td>\n",
       "      <td>17.961180</td>\n",
       "      <td>2.969515</td>\n",
       "      <td>...</td>\n",
       "      <td>0.001104</td>\n",
       "      <td>0.000753</td>\n",
       "      <td>0.000242</td>\n",
       "      <td>0.000660</td>\n",
       "      <td>0.000476</td>\n",
       "      <td>0.000732</td>\n",
       "      <td>0.000118</td>\n",
       "      <td>0.000567</td>\n",
       "      <td>2.036634e-05</td>\n",
       "      <td>0.000302</td>\n",
       "    </tr>\n",
       "    <tr>\n",
       "      <th>...</th>\n",
       "      <td>...</td>\n",
       "      <td>...</td>\n",
       "      <td>...</td>\n",
       "      <td>...</td>\n",
       "      <td>...</td>\n",
       "      <td>...</td>\n",
       "      <td>...</td>\n",
       "      <td>...</td>\n",
       "      <td>...</td>\n",
       "      <td>...</td>\n",
       "      <td>...</td>\n",
       "      <td>...</td>\n",
       "      <td>...</td>\n",
       "      <td>...</td>\n",
       "      <td>...</td>\n",
       "      <td>...</td>\n",
       "      <td>...</td>\n",
       "      <td>...</td>\n",
       "      <td>...</td>\n",
       "      <td>...</td>\n",
       "      <td>...</td>\n",
       "    </tr>\n",
       "    <tr>\n",
       "      <th>3286</th>\n",
       "      <td>2020-01-16 21:21:00</td>\n",
       "      <td>8742.765</td>\n",
       "      <td>8702.951379</td>\n",
       "      <td>17.217384</td>\n",
       "      <td>2.150083</td>\n",
       "      <td>4.023364</td>\n",
       "      <td>9.114629</td>\n",
       "      <td>8.102755</td>\n",
       "      <td>9.114629</td>\n",
       "      <td>8.102755</td>\n",
       "      <td>...</td>\n",
       "      <td>-0.000433</td>\n",
       "      <td>0.003308</td>\n",
       "      <td>-0.000110</td>\n",
       "      <td>0.001303</td>\n",
       "      <td>-0.000172</td>\n",
       "      <td>0.002003</td>\n",
       "      <td>-0.000059</td>\n",
       "      <td>0.000875</td>\n",
       "      <td>-1.331313e-05</td>\n",
       "      <td>0.000543</td>\n",
       "    </tr>\n",
       "    <tr>\n",
       "      <th>3287</th>\n",
       "      <td>2020-01-16 22:21:00</td>\n",
       "      <td>8699.905</td>\n",
       "      <td>8684.336050</td>\n",
       "      <td>24.679749</td>\n",
       "      <td>2.217393</td>\n",
       "      <td>4.211443</td>\n",
       "      <td>8.459243</td>\n",
       "      <td>6.220506</td>\n",
       "      <td>8.459243</td>\n",
       "      <td>6.220506</td>\n",
       "      <td>...</td>\n",
       "      <td>0.000627</td>\n",
       "      <td>0.001358</td>\n",
       "      <td>0.000172</td>\n",
       "      <td>0.001140</td>\n",
       "      <td>0.000293</td>\n",
       "      <td>0.001226</td>\n",
       "      <td>0.000088</td>\n",
       "      <td>0.001017</td>\n",
       "      <td>1.711736e-05</td>\n",
       "      <td>0.000916</td>\n",
       "    </tr>\n",
       "    <tr>\n",
       "      <th>3288</th>\n",
       "      <td>2020-01-16 23:21:00</td>\n",
       "      <td>8735.060</td>\n",
       "      <td>8712.217819</td>\n",
       "      <td>28.384524</td>\n",
       "      <td>2.051866</td>\n",
       "      <td>4.404723</td>\n",
       "      <td>19.757692</td>\n",
       "      <td>8.626833</td>\n",
       "      <td>19.757692</td>\n",
       "      <td>8.626833</td>\n",
       "      <td>...</td>\n",
       "      <td>0.000766</td>\n",
       "      <td>0.001218</td>\n",
       "      <td>0.000177</td>\n",
       "      <td>0.000935</td>\n",
       "      <td>0.000335</td>\n",
       "      <td>0.001004</td>\n",
       "      <td>0.000087</td>\n",
       "      <td>0.000805</td>\n",
       "      <td>1.721735e-05</td>\n",
       "      <td>0.000700</td>\n",
       "    </tr>\n",
       "    <tr>\n",
       "      <th>3289</th>\n",
       "      <td>2020-01-17 00:21:00</td>\n",
       "      <td>8730.995</td>\n",
       "      <td>8716.275522</td>\n",
       "      <td>17.850358</td>\n",
       "      <td>2.633727</td>\n",
       "      <td>4.144004</td>\n",
       "      <td>12.423004</td>\n",
       "      <td>5.427354</td>\n",
       "      <td>12.423004</td>\n",
       "      <td>5.427354</td>\n",
       "      <td>...</td>\n",
       "      <td>-0.000474</td>\n",
       "      <td>0.001413</td>\n",
       "      <td>-0.000211</td>\n",
       "      <td>0.000776</td>\n",
       "      <td>-0.000367</td>\n",
       "      <td>0.000992</td>\n",
       "      <td>-0.000103</td>\n",
       "      <td>0.000597</td>\n",
       "      <td>-1.973368e-05</td>\n",
       "      <td>0.000472</td>\n",
       "    </tr>\n",
       "    <tr>\n",
       "      <th>3290</th>\n",
       "      <td>2020-01-17 01:21:00</td>\n",
       "      <td>8696.020</td>\n",
       "      <td>8680.736321</td>\n",
       "      <td>19.056471</td>\n",
       "      <td>1.861680</td>\n",
       "      <td>4.196556</td>\n",
       "      <td>5.240793</td>\n",
       "      <td>13.815678</td>\n",
       "      <td>5.240793</td>\n",
       "      <td>13.815678</td>\n",
       "      <td>...</td>\n",
       "      <td>-0.000950</td>\n",
       "      <td>0.001547</td>\n",
       "      <td>-0.000063</td>\n",
       "      <td>0.000890</td>\n",
       "      <td>-0.000206</td>\n",
       "      <td>0.001105</td>\n",
       "      <td>-0.000024</td>\n",
       "      <td>0.000686</td>\n",
       "      <td>-2.287024e-06</td>\n",
       "      <td>0.000526</td>\n",
       "    </tr>\n",
       "  </tbody>\n",
       "</table>\n",
       "<p>3291 rows × 40 columns</p>\n",
       "</div>"
      ],
      "text/plain": [
       "               TradeDate  mid_price   mean_price     volume   p_v_avg  \\\n",
       "0    2019-09-01 23:21:00   9838.750  9797.149087  64.387832  4.661716   \n",
       "1    2019-09-02 00:21:00   9784.995  9772.549541  22.053730  5.014523   \n",
       "2    2019-09-02 01:21:00   9783.645  9777.430000   4.990814  4.326182   \n",
       "3    2019-09-02 02:21:00   9775.240  9768.102234   6.599274  4.784383   \n",
       "4    2019-09-02 03:21:00   9799.130  9787.730794  20.930695  4.589762   \n",
       "...                  ...        ...          ...        ...       ...   \n",
       "3286 2020-01-16 21:21:00   8742.765  8702.951379  17.217384  2.150083   \n",
       "3287 2020-01-16 22:21:00   8699.905  8684.336050  24.679749  2.217393   \n",
       "3288 2020-01-16 23:21:00   8735.060  8712.217819  28.384524  2.051866   \n",
       "3289 2020-01-17 00:21:00   8730.995  8716.275522  17.850358  2.633727   \n",
       "3290 2020-01-17 01:21:00   8696.020  8680.736321  19.056471  1.861680   \n",
       "\n",
       "       p_v_std  buy_volume_1%  sell_volume_1%  buy_volume_3%  sell_volume_3%  \\\n",
       "0     3.339237      54.972398        9.415434      54.972398        9.415434   \n",
       "1     2.725616      14.722651        7.331078      14.722651        7.331078   \n",
       "2     2.030516       2.890299        2.100515       2.890299        2.100515   \n",
       "3     1.936833       4.704690        1.894584       4.704690        1.894584   \n",
       "4     2.491224      17.961180        2.969515      17.961180        2.969515   \n",
       "...        ...            ...             ...            ...             ...   \n",
       "3286  4.023364       9.114629        8.102755       9.114629        8.102755   \n",
       "3287  4.211443       8.459243        6.220506       8.459243        6.220506   \n",
       "3288  4.404723      19.757692        8.626833      19.757692        8.626833   \n",
       "3289  4.144004      12.423004        5.427354      12.423004        5.427354   \n",
       "3290  4.196556       5.240793       13.815678       5.240793       13.815678   \n",
       "\n",
       "      ...  p_diff_50_avg  p_diff_50_std  p_diff_10_avg  p_diff_10_std  \\\n",
       "0     ...       0.001161       0.003356       0.000185       0.001580   \n",
       "1     ...      -0.000377       0.002458       0.000004       0.000916   \n",
       "2     ...       0.000058       0.001122       0.000026       0.000654   \n",
       "3     ...      -0.000748       0.000752      -0.000074       0.000389   \n",
       "4     ...       0.001104       0.000753       0.000242       0.000660   \n",
       "...   ...            ...            ...            ...            ...   \n",
       "3286  ...      -0.000433       0.003308      -0.000110       0.001303   \n",
       "3287  ...       0.000627       0.001358       0.000172       0.001140   \n",
       "3288  ...       0.000766       0.001218       0.000177       0.000935   \n",
       "3289  ...      -0.000474       0.001413      -0.000211       0.000776   \n",
       "3290  ...      -0.000950       0.001547      -0.000063       0.000890   \n",
       "\n",
       "      p_diff_20_avg  p_diff_20_std  p_diff_5_avg  p_diff_5_std  p_diff_1_avg  \\\n",
       "0          0.000436       0.002143      0.000092      0.001190  1.815917e-05   \n",
       "1          0.000042       0.001250     -0.000027      0.000682 -6.496234e-06   \n",
       "2          0.000018       0.000972      0.000036      0.000447  1.680126e-05   \n",
       "3         -0.000245       0.000527     -0.000024      0.000326 -4.405111e-08   \n",
       "4          0.000476       0.000732      0.000118      0.000567  2.036634e-05   \n",
       "...             ...            ...           ...           ...           ...   \n",
       "3286      -0.000172       0.002003     -0.000059      0.000875 -1.331313e-05   \n",
       "3287       0.000293       0.001226      0.000088      0.001017  1.711736e-05   \n",
       "3288       0.000335       0.001004      0.000087      0.000805  1.721735e-05   \n",
       "3289      -0.000367       0.000992     -0.000103      0.000597 -1.973368e-05   \n",
       "3290      -0.000206       0.001105     -0.000024      0.000686 -2.287024e-06   \n",
       "\n",
       "      p_diff_1_std  \n",
       "0         0.000590  \n",
       "1         0.000347  \n",
       "2         0.000232  \n",
       "3         0.000255  \n",
       "4         0.000302  \n",
       "...            ...  \n",
       "3286      0.000543  \n",
       "3287      0.000916  \n",
       "3288      0.000700  \n",
       "3289      0.000472  \n",
       "3290      0.000526  \n",
       "\n",
       "[3291 rows x 40 columns]"
      ]
     },
     "execution_count": 7,
     "metadata": {},
     "output_type": "execute_result"
    }
   ],
   "source": [
    "def get_mid_pct(pct, mid_price):\n",
    "    return mid_price+(pct*mid_price), mid_price-(pct*mid_price)\n",
    "\n",
    "# 15T executed in 1m 47.0s, 13165 rows\n",
    "# 30T executed in 53.2s, 6582 rows\n",
    "# p can be one of: (15 min = '15T', 45 min = '45T', daily='D', weekly='W', monthly='M')\n",
    "def periodize(data, p):\n",
    "    # Build a list of date-ranges to iterate over, with the given frquency p (15 min = '15T', 45 min = '45T', daily='D', weekly='W', monthly='M')\n",
    "    start_date = data['TradeDate'].iloc[0]\n",
    "    end_date = data['TradeDate'].iloc[-1]\n",
    "    period_dates = pd.date_range(start=start_date, end=end_date, freq=p)\n",
    "    df_datetime = pd.to_datetime(data['TradeDate'])\n",
    "    df_datetime_index = pd.DatetimeIndex(df_datetime.values)\n",
    "    data = data.set_index(df_datetime_index).drop('TradeDate', axis=1)\n",
    "    ret = pd.DataFrame([])\n",
    "    for x in range(len(period_dates) - 1):\n",
    "        start_p = period_dates[x]\n",
    "        end_p = period_dates[x+1]\n",
    "        period = data[start_p:end_p]\n",
    "        \n",
    "        # Calculating minimum and maximum bid and ask order fills prices during period\n",
    "        max_sell = period[period['type_sell'] == 1]['price'].max()\n",
    "        min_sell = period[period['type_sell'] == 1]['price'].min()\n",
    "        max_buy = period[period['type_buy'] == 1]['price'].max()\n",
    "        min_buy = period[period['type_buy'] == 1]['price'].min()\n",
    "        \n",
    "        # Calculating 'mid-price', 'mean-price', standard deviation of price during period\n",
    "        mid_price = (max_sell + max_buy)/2\n",
    "        mean_price = period['price'].mean()\n",
    "        std_price = period['price'].std()\n",
    "        \n",
    "        # Calculating 'volume' during period\n",
    "        volume = period['amount'].sum()\n",
    "        \n",
    "        # Calculating 'spread'\n",
    "        spread = max_sell - min_buy\n",
    "        \n",
    "        # Calculating 'depth' or 'bid volume 1%' & 'ask volume 1%'\n",
    "        one_pct_mid_range = get_mid_pct(0.01, mid_price)\n",
    "        three_pct_mid_range = get_mid_pct(0.03, mid_price)\n",
    "        five_pct_mid_range = get_mid_pct(0.05, mid_price)\n",
    "        ten_pct_mid_range = get_mid_pct(0.1, mid_price)\n",
    "        mask1 = period['price'] < one_pct_mid_range[0]\n",
    "        mask2 = period['price'] > one_pct_mid_range[1]\n",
    "        mask3 = period['type_buy'] == 1\n",
    "        mask4 = period['type_sell'] == 1\n",
    "        mask5 = period['price'] < five_pct_mid_range[0]\n",
    "        mask6 = period['price'] > five_pct_mid_range[1]\n",
    "        mask7 = period['price'] < ten_pct_mid_range[0]\n",
    "        mask8 = period['price'] > ten_pct_mid_range[1]\n",
    "        mask9 = period['price'] < three_pct_mid_range[0]\n",
    "        mask10 = period['price'] > three_pct_mid_range[1]\n",
    "\n",
    "        buy_volume_1 = period[mask1 & mask2 & mask3]['amount'].sum()\n",
    "        sell_volume_1 = period[mask1 & mask2 & mask4]['amount'].sum()\n",
    "        buy_volume_5 = period[mask5 & mask6 & mask3]['amount'].sum()\n",
    "        sell_volume_5 = period[mask5 & mask6 & mask4]['amount'].sum()\n",
    "        buy_volume_10 = period[mask7 & mask8 & mask3]['amount'].sum()\n",
    "        sell_volume_10 = period[mask7 & mask8 & mask4]['amount'].sum()\n",
    "        buy_volume_3 = period[mask9 & mask10 & mask3]['amount'].sum()\n",
    "        sell_volume_3 = period[mask9 & mask10 & mask4]['amount'].sum()\n",
    "        \n",
    "        # Calculating 'type' count during period\n",
    "        type_auction = period['type_auction'].sum()\n",
    "        type_block = period['type_block'].sum()\n",
    "        type_buy = period['type_buy'].sum()\n",
    "        type_sell = period['type_sell'].sum()\n",
    "        \n",
    "        # The rest of the features should just be averaged and standard deviation\n",
    "        price_log_avg = period['price_log'].mean()\n",
    "        price_log_std = period['price_log'].std()\n",
    "        \n",
    "        p_v_avg = period['p_v'].mean()\n",
    "        p_v_std = period['p_v'].std()\n",
    "        \n",
    "        p_diff_1_avg = period['p_diff_1'].mean()\n",
    "        p_diff_1_std = period['p_diff_1'].std()\n",
    "        p_diff_5_avg = period['p_diff_5'].mean()\n",
    "        p_diff_5_std = period['p_diff_5'].std()\n",
    "        p_diff_10_avg = period['p_diff_10'].mean()\n",
    "        p_diff_10_std = period['p_diff_10'].std()\n",
    "        p_diff_20_avg = period['p_diff_20'].mean()\n",
    "        p_diff_20_std = period['p_diff_20'].std()\n",
    "        p_diff_50_avg = period['p_diff_50'].mean()\n",
    "        p_diff_50_std = period['p_diff_50'].std()\n",
    "        p_diff_100_avg = period['p_diff_100'].mean()\n",
    "        p_diff_100_std = period['p_diff_100'].std()\n",
    "        p_diff_200_avg = period['p_diff_200'].mean()\n",
    "        p_diff_200_std = period['p_diff_200'].std()\n",
    "        p_diff_500_avg = period['p_diff_500'].mean()\n",
    "        p_diff_500_std = period['p_diff_500'].std()\n",
    "        p_diff_1000_avg = period['p_diff_1000'].mean()\n",
    "        p_diff_1000_std = period['p_diff_1000'].std()\n",
    "        \n",
    "        v_diff_1_avg = period['v_diff_1'].mean()\n",
    "        v_diff_1_std = period['v_diff_1'].std()\n",
    "        v_diff_5_avg = period['v_diff_5'].mean()\n",
    "        v_diff_5_std = period['v_diff_5'].std()\n",
    "        \n",
    "        p_diff2_5_avg = period['p_diff2_5'].mean()\n",
    "        p_diff2_5_std = period['p_diff2_5'].std()\n",
    "        p_diff2_10_avg = period['p_diff2_10'].mean()\n",
    "        p_diff2_10_std = period['p_diff2_10'].std()\n",
    "        p_diff2_20_avg = period['p_diff2_20'].mean()\n",
    "        p_diff2_20_std = period['p_diff2_20'].std()\n",
    "        p_diff2_50_avg = period['p_diff2_50'].mean()\n",
    "        p_diff2_50_std = period['p_diff2_50'].std()\n",
    "        p_diff2_100_avg = period['p_diff2_100'].mean()\n",
    "        p_diff2_100_std = period['p_diff2_100'].std()\n",
    "        p_diff2_200_avg = period['p_diff2_200'].mean()\n",
    "        p_diff2_200_std = period['p_diff2_200'].std()\n",
    "        p_diff2_500_avg = period['p_diff2_500'].mean()\n",
    "        p_diff2_500_std = period['p_diff2_500'].std()\n",
    "        p_diff2_1000_avg = period['p_diff2_1000'].mean()\n",
    "        p_diff2_1000_std = period['p_diff2_1000'].std()\n",
    "        \n",
    "        row = {'TradeDate':end_p, 'spread':spread, 'mid_price':mid_price, 'mean_price':mean_price, 'std_price':std_price, 'volume':volume, \n",
    "                'type_auction':type_auction, 'type_block':type_block, 'type_buy':type_buy, 'type_sell':type_sell,\n",
    "                'volume':volume,\n",
    "                'buy_volume_1%':buy_volume_1, 'sell_volume_1%':sell_volume_1,\n",
    "                'buy_volume_3%':buy_volume_3, 'sell_volume_3%':sell_volume_3,\n",
    "                'buy_volume_5%':buy_volume_5, 'sell_volume_5%':sell_volume_5,\n",
    "                'buy_volume_10%':buy_volume_10, 'sell_volume_10%':sell_volume_10,\n",
    "                'price_log_avg':price_log_avg, 'price_log_std':price_log_std, \n",
    "                'p_v_avg':p_v_avg, 'p_v_std':p_v_std,\n",
    "                'p_diff_1_avg':p_diff_1_avg, 'p_diff_1_std':p_diff_1_std,\n",
    "                'p_diff_5_avg':p_diff_5_avg, 'p_diff_5_std':p_diff_5_std,\n",
    "                'p_diff_10_avg':p_diff_10_avg, 'p_diff_10_std':p_diff_10_std,\n",
    "                'p_diff_20_avg':p_diff_20_avg, 'p_diff_20_std':p_diff_20_std,\n",
    "                'p_diff_50_avg':p_diff_50_avg, 'p_diff_50_std':p_diff_50_std,\n",
    "                'p_diff_100_avg':p_diff_100_avg, 'p_diff_100_std':p_diff_100_std,\n",
    "                'p_diff_200_avg':p_diff_200_avg, 'p_diff_200_std':p_diff_200_std,\n",
    "                'p_diff_500_avg':p_diff_500_avg, 'p_diff_500_std':p_diff_500_std,\n",
    "                'p_diff_1000_avg':p_diff_1000_avg, 'p_diff_1000_std':p_diff_1000_std,}\n",
    "        ret = ret.append(row, ignore_index=True)\n",
    "        \n",
    "    ret = ret.reindex(columns=['TradeDate', 'mid_price', 'mean_price', 'volume', 'p_v_avg', 'p_v_std',\n",
    "               'buy_volume_1%', 'sell_volume_1%', 'buy_volume_3%', 'sell_volume_3%', 'buy_volume_5%', 'sell_volume_5%', 'buy_volume_10%', 'sell_volume_10%', \n",
    "               'spread', 'std_price', 'price_log_avg', 'price_log_std',\n",
    "               'type_auction', 'type_block', 'type_buy', 'type_sell', \n",
    "               'p_diff_1000_avg', 'p_diff_1000_std', 'p_diff_500_avg', 'p_diff_500_std', \n",
    "               'p_diff_200_avg', 'p_diff_200_std', 'p_diff_100_avg', 'p_diff_100_std', \n",
    "               'p_diff_50_avg', 'p_diff_50_std', 'p_diff_10_avg', 'p_diff_10_std', \n",
    "               'p_diff_20_avg', 'p_diff_20_std', 'p_diff_5_avg', 'p_diff_5_std', 'p_diff_1_avg', 'p_diff_1_std'])\n",
    "    return ret\n",
    "data4 = periodize(data3, 'H')\n",
    "data4"
   ]
  },
  {
   "cell_type": "code",
   "execution_count": 8,
   "metadata": {
    "ExecuteTime": {
     "end_time": "2020-06-18T05:12:20.976336Z",
     "start_time": "2020-06-18T05:12:20.837879Z"
    }
   },
   "outputs": [],
   "source": [
    "data4.to_csv(r'data4.csv')\n",
    "data5 = data4.dropna().copy()"
   ]
  },
  {
   "cell_type": "markdown",
   "metadata": {},
   "source": [
    "### 3.2. Data Exploration\n",
    "For the classification model, we extract regime features that represent different component ranges in the GaussianMixture model. Using a scatter plot we visualize clusters using 4 components. We were unable to see a pattern from this visualization.\n"
   ]
  },
  {
   "cell_type": "code",
   "execution_count": 9,
   "metadata": {
    "ExecuteTime": {
     "end_time": "2020-06-18T05:12:21.161310Z",
     "start_time": "2020-06-18T05:12:20.977793Z"
    }
   },
   "outputs": [],
   "source": [
    "from sklearn import mixture as mix\n",
    "import seaborn as sns\n",
    "import matplotlib.pyplot as plt\n",
    "\n",
    "def regimes(data, comps):\n",
    "    df = data.drop(columns = ['TradeDate','mid_price','mean_price']).copy()\n",
    "    df = cleaning(df)\n",
    "    unsup = mix.GaussianMixture(n_components=comps, \n",
    "                                covariance_type=\"spherical\", \n",
    "                                n_init=100)\n",
    "\n",
    "    unsup.fit(np.reshape(df, (-1, df.shape[1])))\n",
    "    regime = unsup.predict(np.reshape(df, (-1, df.shape[1])))\n",
    "\n",
    "    Regimes = pd.DataFrame(regime,columns=['Regime'],index=df.index)\n",
    "    return Regimes\n",
    "\n",
    "def create_regimes(df):\n",
    "    ddf = df.copy()\n",
    "    for i in range(2,7):\n",
    "        ddf['regime_'+str(i)] = regimes(ddf, comps = i)['Regime']\n",
    "        #OnehotEncoding\n",
    "        ddf = pd.concat([ddf, pd.get_dummies(ddf['regime_'+str(i)], prefix='regime_'+str(i))], axis=1)\n",
    "        ddf.drop(['regime_'+str(i)], axis=1, inplace=True)\n",
    "    return ddf"
   ]
  },
  {
   "cell_type": "code",
   "execution_count": 10,
   "metadata": {
    "ExecuteTime": {
     "end_time": "2020-06-18T05:12:30.311359Z",
     "start_time": "2020-06-18T05:12:21.162364Z"
    }
   },
   "outputs": [
    {
     "data": {
      "image/png": "[encoded data removed]",
      "text/plain": [
       "<Figure size 910x432 with 1 Axes>"
      ]
     },
     "metadata": {
      "needs_background": "light"
     },
     "output_type": "display_data"
    }
   ],
   "source": [
    "data_reg_show = data4.copy()\n",
    "data_reg_show['Regime'] = regimes(data_reg_show, comps = 4)['Regime']\n",
    "order=[0,1,2,3]\n",
    "fig = sns.FacetGrid(data=data_reg_show,hue='Regime',hue_order=order,aspect=2,height= 6)\n",
    "fig.map(plt.scatter,'TradeDate','mid_price', s=4).add_legend()\n",
    "plt.show()"
   ]
  },
  {
   "cell_type": "markdown",
   "metadata": {},
   "source": [
    "##### Fig.1 Interpretation\n",
    "\n",
    "This the visualization of one of the clusters created with all the data we have. In this segment, we conducted clustering on four classes and plotted them with different colors to distinguish among classes. As you can see on the plot, these four classes almost show us up and down movements and some classes which we can't explain for now. We will use different clusters as features for feature model creation"
   ]
  },
  {
   "cell_type": "code",
   "execution_count": 11,
   "metadata": {
    "ExecuteTime": {
     "end_time": "2020-06-18T05:12:30.325600Z",
     "start_time": "2020-06-18T05:12:30.312213Z"
    }
   },
   "outputs": [
    {
     "data": {
      "text/html": [
       "<div>\n",
       "<style scoped>\n",
       "    .dataframe tbody tr th:only-of-type {\n",
       "        vertical-align: middle;\n",
       "    }\n",
       "\n",
       "    .dataframe tbody tr th {\n",
       "        vertical-align: top;\n",
       "    }\n",
       "\n",
       "    .dataframe thead th {\n",
       "        text-align: right;\n",
       "    }\n",
       "</style>\n",
       "<table border=\"1\" class=\"dataframe\">\n",
       "  <thead>\n",
       "    <tr style=\"text-align: right;\">\n",
       "      <th></th>\n",
       "      <th>TradeDate</th>\n",
       "      <th>mid_price</th>\n",
       "      <th>mean_price</th>\n",
       "      <th>volume</th>\n",
       "      <th>p_v_avg</th>\n",
       "      <th>p_v_std</th>\n",
       "      <th>buy_volume_1%</th>\n",
       "      <th>sell_volume_1%</th>\n",
       "      <th>buy_volume_3%</th>\n",
       "      <th>sell_volume_3%</th>\n",
       "      <th>...</th>\n",
       "      <th>p_diff_50_std</th>\n",
       "      <th>p_diff_10_avg</th>\n",
       "      <th>p_diff_10_std</th>\n",
       "      <th>p_diff_20_avg</th>\n",
       "      <th>p_diff_20_std</th>\n",
       "      <th>p_diff_5_avg</th>\n",
       "      <th>p_diff_5_std</th>\n",
       "      <th>p_diff_1_avg</th>\n",
       "      <th>p_diff_1_std</th>\n",
       "      <th>Regime</th>\n",
       "    </tr>\n",
       "  </thead>\n",
       "  <tbody>\n",
       "    <tr>\n",
       "      <th>0</th>\n",
       "      <td>2019-09-01 23:21:00</td>\n",
       "      <td>9838.750</td>\n",
       "      <td>9797.149087</td>\n",
       "      <td>64.387832</td>\n",
       "      <td>4.661716</td>\n",
       "      <td>3.339237</td>\n",
       "      <td>54.972398</td>\n",
       "      <td>9.415434</td>\n",
       "      <td>54.972398</td>\n",
       "      <td>9.415434</td>\n",
       "      <td>...</td>\n",
       "      <td>0.003356</td>\n",
       "      <td>0.000185</td>\n",
       "      <td>0.001580</td>\n",
       "      <td>0.000436</td>\n",
       "      <td>0.002143</td>\n",
       "      <td>0.000092</td>\n",
       "      <td>0.001190</td>\n",
       "      <td>1.815917e-05</td>\n",
       "      <td>0.000590</td>\n",
       "      <td>3.0</td>\n",
       "    </tr>\n",
       "    <tr>\n",
       "      <th>1</th>\n",
       "      <td>2019-09-02 00:21:00</td>\n",
       "      <td>9784.995</td>\n",
       "      <td>9772.549541</td>\n",
       "      <td>22.053730</td>\n",
       "      <td>5.014523</td>\n",
       "      <td>2.725616</td>\n",
       "      <td>14.722651</td>\n",
       "      <td>7.331078</td>\n",
       "      <td>14.722651</td>\n",
       "      <td>7.331078</td>\n",
       "      <td>...</td>\n",
       "      <td>0.002458</td>\n",
       "      <td>0.000004</td>\n",
       "      <td>0.000916</td>\n",
       "      <td>0.000042</td>\n",
       "      <td>0.001250</td>\n",
       "      <td>-0.000027</td>\n",
       "      <td>0.000682</td>\n",
       "      <td>-6.496234e-06</td>\n",
       "      <td>0.000347</td>\n",
       "      <td>0.0</td>\n",
       "    </tr>\n",
       "    <tr>\n",
       "      <th>2</th>\n",
       "      <td>2019-09-02 01:21:00</td>\n",
       "      <td>9783.645</td>\n",
       "      <td>9777.430000</td>\n",
       "      <td>4.990814</td>\n",
       "      <td>4.326182</td>\n",
       "      <td>2.030516</td>\n",
       "      <td>2.890299</td>\n",
       "      <td>2.100515</td>\n",
       "      <td>2.890299</td>\n",
       "      <td>2.100515</td>\n",
       "      <td>...</td>\n",
       "      <td>0.001122</td>\n",
       "      <td>0.000026</td>\n",
       "      <td>0.000654</td>\n",
       "      <td>0.000018</td>\n",
       "      <td>0.000972</td>\n",
       "      <td>0.000036</td>\n",
       "      <td>0.000447</td>\n",
       "      <td>1.680126e-05</td>\n",
       "      <td>0.000232</td>\n",
       "      <td>0.0</td>\n",
       "    </tr>\n",
       "    <tr>\n",
       "      <th>3</th>\n",
       "      <td>2019-09-02 02:21:00</td>\n",
       "      <td>9775.240</td>\n",
       "      <td>9768.102234</td>\n",
       "      <td>6.599274</td>\n",
       "      <td>4.784383</td>\n",
       "      <td>1.936833</td>\n",
       "      <td>4.704690</td>\n",
       "      <td>1.894584</td>\n",
       "      <td>4.704690</td>\n",
       "      <td>1.894584</td>\n",
       "      <td>...</td>\n",
       "      <td>0.000752</td>\n",
       "      <td>-0.000074</td>\n",
       "      <td>0.000389</td>\n",
       "      <td>-0.000245</td>\n",
       "      <td>0.000527</td>\n",
       "      <td>-0.000024</td>\n",
       "      <td>0.000326</td>\n",
       "      <td>-4.405111e-08</td>\n",
       "      <td>0.000255</td>\n",
       "      <td>0.0</td>\n",
       "    </tr>\n",
       "    <tr>\n",
       "      <th>4</th>\n",
       "      <td>2019-09-02 03:21:00</td>\n",
       "      <td>9799.130</td>\n",
       "      <td>9787.730794</td>\n",
       "      <td>20.930695</td>\n",
       "      <td>4.589762</td>\n",
       "      <td>2.491224</td>\n",
       "      <td>17.961180</td>\n",
       "      <td>2.969515</td>\n",
       "      <td>17.961180</td>\n",
       "      <td>2.969515</td>\n",
       "      <td>...</td>\n",
       "      <td>0.000753</td>\n",
       "      <td>0.000242</td>\n",
       "      <td>0.000660</td>\n",
       "      <td>0.000476</td>\n",
       "      <td>0.000732</td>\n",
       "      <td>0.000118</td>\n",
       "      <td>0.000567</td>\n",
       "      <td>2.036634e-05</td>\n",
       "      <td>0.000302</td>\n",
       "      <td>2.0</td>\n",
       "    </tr>\n",
       "  </tbody>\n",
       "</table>\n",
       "<p>5 rows × 41 columns</p>\n",
       "</div>"
      ],
      "text/plain": [
       "            TradeDate  mid_price   mean_price     volume   p_v_avg   p_v_std  \\\n",
       "0 2019-09-01 23:21:00   9838.750  9797.149087  64.387832  4.661716  3.339237   \n",
       "1 2019-09-02 00:21:00   9784.995  9772.549541  22.053730  5.014523  2.725616   \n",
       "2 2019-09-02 01:21:00   9783.645  9777.430000   4.990814  4.326182  2.030516   \n",
       "3 2019-09-02 02:21:00   9775.240  9768.102234   6.599274  4.784383  1.936833   \n",
       "4 2019-09-02 03:21:00   9799.130  9787.730794  20.930695  4.589762  2.491224   \n",
       "\n",
       "   buy_volume_1%  sell_volume_1%  buy_volume_3%  sell_volume_3%  ...  \\\n",
       "0      54.972398        9.415434      54.972398        9.415434  ...   \n",
       "1      14.722651        7.331078      14.722651        7.331078  ...   \n",
       "2       2.890299        2.100515       2.890299        2.100515  ...   \n",
       "3       4.704690        1.894584       4.704690        1.894584  ...   \n",
       "4      17.961180        2.969515      17.961180        2.969515  ...   \n",
       "\n",
       "   p_diff_50_std  p_diff_10_avg  p_diff_10_std  p_diff_20_avg  p_diff_20_std  \\\n",
       "0       0.003356       0.000185       0.001580       0.000436       0.002143   \n",
       "1       0.002458       0.000004       0.000916       0.000042       0.001250   \n",
       "2       0.001122       0.000026       0.000654       0.000018       0.000972   \n",
       "3       0.000752      -0.000074       0.000389      -0.000245       0.000527   \n",
       "4       0.000753       0.000242       0.000660       0.000476       0.000732   \n",
       "\n",
       "   p_diff_5_avg  p_diff_5_std  p_diff_1_avg  p_diff_1_std  Regime  \n",
       "0      0.000092      0.001190  1.815917e-05      0.000590     3.0  \n",
       "1     -0.000027      0.000682 -6.496234e-06      0.000347     0.0  \n",
       "2      0.000036      0.000447  1.680126e-05      0.000232     0.0  \n",
       "3     -0.000024      0.000326 -4.405111e-08      0.000255     0.0  \n",
       "4      0.000118      0.000567  2.036634e-05      0.000302     2.0  \n",
       "\n",
       "[5 rows x 41 columns]"
      ]
     },
     "execution_count": 11,
     "metadata": {},
     "output_type": "execute_result"
    }
   ],
   "source": [
    "data_reg_show.head()"
   ]
  },
  {
   "cell_type": "code",
   "execution_count": 12,
   "metadata": {
    "ExecuteTime": {
     "end_time": "2020-06-18T05:13:08.611587Z",
     "start_time": "2020-06-18T05:12:30.326736Z"
    }
   },
   "outputs": [
    {
     "data": {
      "text/html": [
       "<div>\n",
       "<style scoped>\n",
       "    .dataframe tbody tr th:only-of-type {\n",
       "        vertical-align: middle;\n",
       "    }\n",
       "\n",
       "    .dataframe tbody tr th {\n",
       "        vertical-align: top;\n",
       "    }\n",
       "\n",
       "    .dataframe thead th {\n",
       "        text-align: right;\n",
       "    }\n",
       "</style>\n",
       "<table border=\"1\" class=\"dataframe\">\n",
       "  <thead>\n",
       "    <tr style=\"text-align: right;\">\n",
       "      <th></th>\n",
       "      <th>TradeDate</th>\n",
       "      <th>mid_price</th>\n",
       "      <th>mean_price</th>\n",
       "      <th>volume</th>\n",
       "      <th>p_v_avg</th>\n",
       "      <th>p_v_std</th>\n",
       "      <th>buy_volume_1%</th>\n",
       "      <th>sell_volume_1%</th>\n",
       "      <th>buy_volume_3%</th>\n",
       "      <th>sell_volume_3%</th>\n",
       "      <th>...</th>\n",
       "      <th>regime_5_1.0</th>\n",
       "      <th>regime_5_2.0</th>\n",
       "      <th>regime_5_3.0</th>\n",
       "      <th>regime_5_4.0</th>\n",
       "      <th>regime_6_0.0</th>\n",
       "      <th>regime_6_1.0</th>\n",
       "      <th>regime_6_2.0</th>\n",
       "      <th>regime_6_3.0</th>\n",
       "      <th>regime_6_4.0</th>\n",
       "      <th>regime_6_5.0</th>\n",
       "    </tr>\n",
       "  </thead>\n",
       "  <tbody>\n",
       "    <tr>\n",
       "      <th>0</th>\n",
       "      <td>2019-09-01 23:21:00</td>\n",
       "      <td>9838.750</td>\n",
       "      <td>9797.149087</td>\n",
       "      <td>64.387832</td>\n",
       "      <td>4.661716</td>\n",
       "      <td>3.339237</td>\n",
       "      <td>54.972398</td>\n",
       "      <td>9.415434</td>\n",
       "      <td>54.972398</td>\n",
       "      <td>9.415434</td>\n",
       "      <td>...</td>\n",
       "      <td>0</td>\n",
       "      <td>0</td>\n",
       "      <td>0</td>\n",
       "      <td>1</td>\n",
       "      <td>0</td>\n",
       "      <td>0</td>\n",
       "      <td>1</td>\n",
       "      <td>0</td>\n",
       "      <td>0</td>\n",
       "      <td>0</td>\n",
       "    </tr>\n",
       "    <tr>\n",
       "      <th>1</th>\n",
       "      <td>2019-09-02 00:21:00</td>\n",
       "      <td>9784.995</td>\n",
       "      <td>9772.549541</td>\n",
       "      <td>22.053730</td>\n",
       "      <td>5.014523</td>\n",
       "      <td>2.725616</td>\n",
       "      <td>14.722651</td>\n",
       "      <td>7.331078</td>\n",
       "      <td>14.722651</td>\n",
       "      <td>7.331078</td>\n",
       "      <td>...</td>\n",
       "      <td>0</td>\n",
       "      <td>0</td>\n",
       "      <td>0</td>\n",
       "      <td>0</td>\n",
       "      <td>0</td>\n",
       "      <td>0</td>\n",
       "      <td>0</td>\n",
       "      <td>0</td>\n",
       "      <td>1</td>\n",
       "      <td>0</td>\n",
       "    </tr>\n",
       "    <tr>\n",
       "      <th>2</th>\n",
       "      <td>2019-09-02 01:21:00</td>\n",
       "      <td>9783.645</td>\n",
       "      <td>9777.430000</td>\n",
       "      <td>4.990814</td>\n",
       "      <td>4.326182</td>\n",
       "      <td>2.030516</td>\n",
       "      <td>2.890299</td>\n",
       "      <td>2.100515</td>\n",
       "      <td>2.890299</td>\n",
       "      <td>2.100515</td>\n",
       "      <td>...</td>\n",
       "      <td>0</td>\n",
       "      <td>0</td>\n",
       "      <td>0</td>\n",
       "      <td>0</td>\n",
       "      <td>1</td>\n",
       "      <td>0</td>\n",
       "      <td>0</td>\n",
       "      <td>0</td>\n",
       "      <td>0</td>\n",
       "      <td>0</td>\n",
       "    </tr>\n",
       "    <tr>\n",
       "      <th>3</th>\n",
       "      <td>2019-09-02 02:21:00</td>\n",
       "      <td>9775.240</td>\n",
       "      <td>9768.102234</td>\n",
       "      <td>6.599274</td>\n",
       "      <td>4.784383</td>\n",
       "      <td>1.936833</td>\n",
       "      <td>4.704690</td>\n",
       "      <td>1.894584</td>\n",
       "      <td>4.704690</td>\n",
       "      <td>1.894584</td>\n",
       "      <td>...</td>\n",
       "      <td>0</td>\n",
       "      <td>0</td>\n",
       "      <td>0</td>\n",
       "      <td>0</td>\n",
       "      <td>1</td>\n",
       "      <td>0</td>\n",
       "      <td>0</td>\n",
       "      <td>0</td>\n",
       "      <td>0</td>\n",
       "      <td>0</td>\n",
       "    </tr>\n",
       "    <tr>\n",
       "      <th>4</th>\n",
       "      <td>2019-09-02 03:21:00</td>\n",
       "      <td>9799.130</td>\n",
       "      <td>9787.730794</td>\n",
       "      <td>20.930695</td>\n",
       "      <td>4.589762</td>\n",
       "      <td>2.491224</td>\n",
       "      <td>17.961180</td>\n",
       "      <td>2.969515</td>\n",
       "      <td>17.961180</td>\n",
       "      <td>2.969515</td>\n",
       "      <td>...</td>\n",
       "      <td>0</td>\n",
       "      <td>0</td>\n",
       "      <td>1</td>\n",
       "      <td>0</td>\n",
       "      <td>0</td>\n",
       "      <td>0</td>\n",
       "      <td>0</td>\n",
       "      <td>0</td>\n",
       "      <td>1</td>\n",
       "      <td>0</td>\n",
       "    </tr>\n",
       "  </tbody>\n",
       "</table>\n",
       "<p>5 rows × 60 columns</p>\n",
       "</div>"
      ],
      "text/plain": [
       "            TradeDate  mid_price   mean_price     volume   p_v_avg   p_v_std  \\\n",
       "0 2019-09-01 23:21:00   9838.750  9797.149087  64.387832  4.661716  3.339237   \n",
       "1 2019-09-02 00:21:00   9784.995  9772.549541  22.053730  5.014523  2.725616   \n",
       "2 2019-09-02 01:21:00   9783.645  9777.430000   4.990814  4.326182  2.030516   \n",
       "3 2019-09-02 02:21:00   9775.240  9768.102234   6.599274  4.784383  1.936833   \n",
       "4 2019-09-02 03:21:00   9799.130  9787.730794  20.930695  4.589762  2.491224   \n",
       "\n",
       "   buy_volume_1%  sell_volume_1%  buy_volume_3%  sell_volume_3%  ...  \\\n",
       "0      54.972398        9.415434      54.972398        9.415434  ...   \n",
       "1      14.722651        7.331078      14.722651        7.331078  ...   \n",
       "2       2.890299        2.100515       2.890299        2.100515  ...   \n",
       "3       4.704690        1.894584       4.704690        1.894584  ...   \n",
       "4      17.961180        2.969515      17.961180        2.969515  ...   \n",
       "\n",
       "   regime_5_1.0  regime_5_2.0  regime_5_3.0  regime_5_4.0  regime_6_0.0  \\\n",
       "0             0             0             0             1             0   \n",
       "1             0             0             0             0             0   \n",
       "2             0             0             0             0             1   \n",
       "3             0             0             0             0             1   \n",
       "4             0             0             1             0             0   \n",
       "\n",
       "   regime_6_1.0  regime_6_2.0  regime_6_3.0  regime_6_4.0  regime_6_5.0  \n",
       "0             0             1             0             0             0  \n",
       "1             0             0             0             1             0  \n",
       "2             0             0             0             0             0  \n",
       "3             0             0             0             0             0  \n",
       "4             0             0             0             1             0  \n",
       "\n",
       "[5 rows x 60 columns]"
      ]
     },
     "execution_count": 12,
     "metadata": {},
     "output_type": "execute_result"
    }
   ],
   "source": [
    "# Creating the regime features\n",
    "data5 = create_regimes(data4)\n",
    "data6 = data5.copy()\n",
    "data6.head()"
   ]
  },
  {
   "cell_type": "markdown",
   "metadata": {},
   "source": [
    "### 3.3. Model Construction\n",
    "#### Classification model answered these questions and hypotheses:\n",
    "3. Trade volumes and prices affect market behavior such as: \n",
    "    - During periods where price is INCREASING (more than in general) mostly BUY orders are going to be filled. \n",
    "    - During periods where price is DECREASING (more than in general) mostly SELL orders are going to be filled.\n",
    "    - During periods where price is INCREASING (more than in general) mostly SELL orders are going to be filled. \n",
    "    - During periods where price is DECREASING (more than in general) mostly BUY orders are going to be filled.\n",
    "\n",
    "To test these questions, we find the correlations between mid_price, type_buy and type_sell. As you can see below, there is very little correlation between mid_price and type_buy and type_sell. We were unable to give a definitive answer due to low correlation."
   ]
  },
  {
   "cell_type": "code",
   "execution_count": 13,
   "metadata": {
    "ExecuteTime": {
     "end_time": "2020-06-18T05:13:08.618751Z",
     "start_time": "2020-06-18T05:13:08.612607Z"
    }
   },
   "outputs": [
    {
     "data": {
      "text/html": [
       "<div>\n",
       "<style scoped>\n",
       "    .dataframe tbody tr th:only-of-type {\n",
       "        vertical-align: middle;\n",
       "    }\n",
       "\n",
       "    .dataframe tbody tr th {\n",
       "        vertical-align: top;\n",
       "    }\n",
       "\n",
       "    .dataframe thead th {\n",
       "        text-align: right;\n",
       "    }\n",
       "</style>\n",
       "<table border=\"1\" class=\"dataframe\">\n",
       "  <thead>\n",
       "    <tr style=\"text-align: right;\">\n",
       "      <th></th>\n",
       "      <th>mid_price</th>\n",
       "      <th>type_buy</th>\n",
       "      <th>type_sell</th>\n",
       "    </tr>\n",
       "  </thead>\n",
       "  <tbody>\n",
       "    <tr>\n",
       "      <th>mid_price</th>\n",
       "      <td>1.000000</td>\n",
       "      <td>0.029213</td>\n",
       "      <td>-0.104364</td>\n",
       "    </tr>\n",
       "    <tr>\n",
       "      <th>type_buy</th>\n",
       "      <td>0.029213</td>\n",
       "      <td>1.000000</td>\n",
       "      <td>0.770348</td>\n",
       "    </tr>\n",
       "    <tr>\n",
       "      <th>type_sell</th>\n",
       "      <td>-0.104364</td>\n",
       "      <td>0.770348</td>\n",
       "      <td>1.000000</td>\n",
       "    </tr>\n",
       "  </tbody>\n",
       "</table>\n",
       "</div>"
      ],
      "text/plain": [
       "           mid_price  type_buy  type_sell\n",
       "mid_price   1.000000  0.029213  -0.104364\n",
       "type_buy    0.029213  1.000000   0.770348\n",
       "type_sell  -0.104364  0.770348   1.000000"
      ]
     },
     "execution_count": 13,
     "metadata": {},
     "output_type": "execute_result"
    }
   ],
   "source": [
    "correlations = data5[['mid_price','type_buy', 'type_sell']].corr(method ='pearson') \n",
    "correlations"
   ]
  },
  {
   "cell_type": "markdown",
   "metadata": {},
   "source": [
    "4. Which classification models best predict 4 hour mid-price movement?\n",
    "5. Hypotheses: Our best classification model will be 60% accurate or more. Null Hypotheses: Our best classification model is less than 60% accurate.\n",
    "\n",
    "To test these two questions, we first split our data into training and testing sets, then check the correlation matrix of all features and drop all of them which have the absolute value of correlation more than 0.85. Then we run classification models on them using GridSearch."
   ]
  },
  {
   "cell_type": "code",
   "execution_count": 14,
   "metadata": {
    "ExecuteTime": {
     "end_time": "2020-06-18T05:13:08.632510Z",
     "start_time": "2020-06-18T05:13:08.619622Z"
    }
   },
   "outputs": [],
   "source": [
    "from sklearn.model_selection import train_test_split\n",
    "\n",
    "def create_target(df):\n",
    "    #This depends on the time\n",
    "    # Basically we check here if in next 4 hours price difference is going to be positive or negative\n",
    "    df['target'] = np.where(df.mid_price.shift(int(-4)) - df.mid_price > 0, 1, 0)\n",
    "    df = cleaning(df)\n",
    "    return df\n",
    "\n",
    "data7 = create_target(data6)\n",
    "data7\n",
    "\n",
    "# Splitting the data into test and train sets.\n",
    "X_train, X_test, y_train, y_test = train_test_split(data7.drop(['target', 'TradeDate'], axis = 1), data7['target'], test_size = 0.20)\n",
    "\n",
    "# Select features with low correlation and drop all features \n",
    "def feature_selection_corr(X_train, X_test):\n",
    "    corr_m = X_train.corr(method = \"spearman\").abs()\n",
    "    sns.set(font_scale = 1.0)\n",
    "    f, ax = plt.subplots(figsize=(10, 10))\n",
    "    sns.heatmap(corr_m, cmap= \"binary\", square=True, ax = ax)\n",
    "    f.tight_layout()\n",
    "    upper = corr_m.where(np.triu(np.ones(corr_m.shape), k = 1).astype(np.bool))\n",
    "    drop_list = [c for c in upper.columns if any(upper[c] > 0.85)]\n",
    "    print(X_train.shape)\n",
    "    X_train = X_train.drop(drop_list, axis = 1)\n",
    "    X_test = X_test.drop(drop_list, axis = 1)\n",
    "    corr_m = X_train.corr(method = \"spearman\").abs()\n",
    "    sns.set(font_scale = 1.0)\n",
    "    f, ax = plt.subplots(figsize=(10, 10))\n",
    "    sns.heatmap(corr_m, cmap= \"binary\", square=True, ax = ax)\n",
    "    f.tight_layout()\n",
    "    print(X_train.shape)\n",
    "    return X_train, X_test\n"
   ]
  },
  {
   "cell_type": "code",
   "execution_count": 15,
   "metadata": {
    "ExecuteTime": {
     "end_time": "2020-06-18T05:13:09.745107Z",
     "start_time": "2020-06-18T05:13:08.633382Z"
    }
   },
   "outputs": [
    {
     "name": "stdout",
     "output_type": "stream",
     "text": [
      "(2620, 59)\n",
      "(2620, 36)\n"
     ]
    },
    {
     "data": {
      "image/png": "[encoded data removed]",
      "text/plain": [
       "<Figure size 720x720 with 2 Axes>"
      ]
     },
     "metadata": {},
     "output_type": "display_data"
    },
    {
     "data": {
      "image/png": "[encoded data removed]",
      "text/plain": [
       "<Figure size 720x720 with 2 Axes>"
      ]
     },
     "metadata": {},
     "output_type": "display_data"
    }
   ],
   "source": [
    "X_train, X_test = feature_selection_corr(X_train, X_test)"
   ]
  },
  {
   "cell_type": "markdown",
   "metadata": {},
   "source": [
    "##### Interpretation\n",
    "\n",
    "This is the correlation matrix of all created features in black and white color. We want to drop all columns which have correlation with any other column more than 0.85. As you can see on the second correlation matrix, the colors are less dark among different features. Therefore, the work was completed well here. We have dropped 24 columns."
   ]
  },
  {
   "cell_type": "markdown",
   "metadata": {},
   "source": [
    "### 3.4. Model Optimization\n",
    "We use GridSearchCV to run different models and different parameters for each model. We also use the results to decide which model/parameter combination best suits predicting this type of data."
   ]
  },
  {
   "cell_type": "code",
   "execution_count": 16,
   "metadata": {
    "ExecuteTime": {
     "end_time": "2020-06-18T05:13:09.755291Z",
     "start_time": "2020-06-18T05:13:09.746050Z"
    }
   },
   "outputs": [],
   "source": [
    "from sklearn.feature_selection import RFE\n",
    "from sklearn.tree import DecisionTreeClassifier\n",
    "\n",
    "def gridd():    \n",
    "    pipe = Pipeline([('scaler', StandardScaler()),\n",
    "                     ('selector', SelectKBest(mutual_info_classif)),\n",
    "                     ('classifier', RandomForestClassifier())])\n",
    "\n",
    "    search_space = [{'scaler': [StandardScaler()]},\n",
    "                    {'scaler': [MinMaxScaler(feature_range=(0, 1))]},\n",
    "                    \n",
    "                    {'selector': [SelectKBest(mutual_info_classif)],\n",
    "                     'selector__k': [1, 2, 3, 4, 5, 6, 7, 8, 9, 10, 15, 20]},\n",
    "                    {'selector': [RFE(RandomForestClassifier())],\n",
    "                     'selector__n_features_to_select': [1, 2, 3, 4, 5, 6, 7, 8, 9, 10, 15, 20]},\n",
    "\n",
    "                    {'classifier': [RandomForestClassifier(n_estimators=100, max_features = 'auto')],\n",
    "                     \"classifier__n_estimators\": [200],\n",
    "                     \"classifier__class_weight\": [None, \"balanced\"],\n",
    "                     \"classifier__max_features\": [\"auto\", \"sqrt\", \"log2\"],\n",
    "                     \"classifier__max_depth\" : [3, 4, 5, 6, 7, 8, None],\n",
    "                     \"classifier__min_samples_split\": [0.005, 0.01, 0.05, 0.10],\n",
    "                     \"classifier__min_samples_leaf\": [0.005, 0.01, 0.05, 0.10],\n",
    "                     \"classifier__criterion\" :[\"gini\", \"entropy\"],\n",
    "                     \"classifier__n_jobs\": [-1]},\n",
    "\n",
    "                    {'classifier': [ExtraTreesClassifier()],\n",
    "                     \"classifier__n_estimators\": [200],\n",
    "                     \"classifier__class_weight\": [None, \"balanced\"],\n",
    "                     \"classifier__max_features\": [\"auto\", \"sqrt\", \"log2\"],\n",
    "                     \"classifier__max_depth\" : [3, 4, 5, 6, 7, 8],\n",
    "                     \"classifier__min_samples_split\": [0.005, 0.01, 0.05, 0.10],\n",
    "                     \"classifier__min_samples_leaf\": [0.005, 0.01, 0.05, 0.10],\n",
    "                     \"classifier__criterion\" :[\"gini\", \"entropy\"]     ,\n",
    "                     \"classifier__n_jobs\": [-1]},\n",
    "\n",
    "                    {'classifier': [AdaBoostClassifier()],\n",
    "                     'classifier__n_estimators': [200],\n",
    "                     \"classifier__base_estimator\": [DecisionTreeClassifier(max_depth = ii) for ii in range(1,6)],\n",
    "                     \"classifier__learning_rate\": [0.001, 0.01, 0.05, 0.1, 0.25, 0.50, 0.75, 1.0]},\n",
    "\n",
    "                    {'classifier': [GradientBoostingClassifier()],\n",
    "                     \"classifier__learning_rate\":[0.15,0.1,0.05,0.01,0.005,0.001], \n",
    "                     \"classifier__n_estimators\": [200],\n",
    "                     \"classifier__max_depth\": [2,3,4,5,6],\n",
    "                     \"classifier__min_samples_split\": [0.005, 0.01, 0.05, 0.10],\n",
    "                     \"classifier__min_samples_leaf\": [0.005, 0.01, 0.05, 0.10],\n",
    "                     \"classifier__max_features\": [\"auto\", \"sqrt\", \"log2\"],\n",
    "                     \"classifier__subsample\": [0.8, 0.9, 1]}]\n",
    "\n",
    "    search = GridSearchCV(pipe,\n",
    "                          search_space,\n",
    "                          n_jobs=-1,\n",
    "                          scoring=\"balanced_accuracy\",\n",
    "                          cv=4,\n",
    "                          verbose=1)\n",
    "\n",
    "    search.fit(X_train, y_train)\n",
    "\n",
    "    par = search.best_estimator_\n",
    "    sc = search.best_score_\n",
    "    print(par)\n",
    "    print(sc)\n",
    "    return search"
   ]
  },
  {
   "cell_type": "markdown",
   "metadata": {},
   "source": [
    "### 3.5. Model Testing\n",
    "* Test your tuned algorithms using your testing set"
   ]
  },
  {
   "cell_type": "code",
   "execution_count": 20,
   "metadata": {
    "ExecuteTime": {
     "end_time": "2020-06-18T05:14:32.044634Z",
     "start_time": "2020-06-18T05:14:30.955290Z"
    }
   },
   "outputs": [
    {
     "name": "stderr",
     "output_type": "stream",
     "text": [
      "/home/drakstik/anaconda3/lib/python3.7/site-packages/sklearn/base.py:318: UserWarning: Trying to unpickle estimator StandardScaler from version 0.22.2.post1 when using version 0.22.1. This might lead to breaking code or invalid results. Use at your own risk.\n",
      "  UserWarning)\n",
      "/home/drakstik/anaconda3/lib/python3.7/site-packages/sklearn/base.py:318: UserWarning: Trying to unpickle estimator SelectKBest from version 0.22.2.post1 when using version 0.22.1. This might lead to breaking code or invalid results. Use at your own risk.\n",
      "  UserWarning)\n",
      "/home/drakstik/anaconda3/lib/python3.7/site-packages/sklearn/base.py:318: UserWarning: Trying to unpickle estimator DecisionTreeClassifier from version 0.22.2.post1 when using version 0.22.1. This might lead to breaking code or invalid results. Use at your own risk.\n",
      "  UserWarning)\n",
      "/home/drakstik/anaconda3/lib/python3.7/site-packages/sklearn/base.py:318: UserWarning: Trying to unpickle estimator RandomForestClassifier from version 0.22.2.post1 when using version 0.22.1. This might lead to breaking code or invalid results. Use at your own risk.\n",
      "  UserWarning)\n",
      "/home/drakstik/anaconda3/lib/python3.7/site-packages/sklearn/base.py:318: UserWarning: Trying to unpickle estimator Pipeline from version 0.22.2.post1 when using version 0.22.1. This might lead to breaking code or invalid results. Use at your own risk.\n",
      "  UserWarning)\n",
      "/home/drakstik/anaconda3/lib/python3.7/site-packages/sklearn/base.py:318: UserWarning: Trying to unpickle estimator MinMaxScaler from version 0.22.2.post1 when using version 0.22.1. This might lead to breaking code or invalid results. Use at your own risk.\n",
      "  UserWarning)\n",
      "/home/drakstik/anaconda3/lib/python3.7/site-packages/sklearn/base.py:318: UserWarning: Trying to unpickle estimator RFE from version 0.22.2.post1 when using version 0.22.1. This might lead to breaking code or invalid results. Use at your own risk.\n",
      "  UserWarning)\n",
      "/home/drakstik/anaconda3/lib/python3.7/site-packages/sklearn/base.py:318: UserWarning: Trying to unpickle estimator ExtraTreeClassifier from version 0.22.2.post1 when using version 0.22.1. This might lead to breaking code or invalid results. Use at your own risk.\n",
      "  UserWarning)\n",
      "/home/drakstik/anaconda3/lib/python3.7/site-packages/sklearn/base.py:318: UserWarning: Trying to unpickle estimator ExtraTreesClassifier from version 0.22.2.post1 when using version 0.22.1. This might lead to breaking code or invalid results. Use at your own risk.\n",
      "  UserWarning)\n",
      "/home/drakstik/anaconda3/lib/python3.7/site-packages/sklearn/base.py:318: UserWarning: Trying to unpickle estimator AdaBoostClassifier from version 0.22.2.post1 when using version 0.22.1. This might lead to breaking code or invalid results. Use at your own risk.\n",
      "  UserWarning)\n",
      "/home/drakstik/anaconda3/lib/python3.7/site-packages/sklearn/base.py:318: UserWarning: Trying to unpickle estimator GradientBoostingClassifier from version 0.22.2.post1 when using version 0.22.1. This might lead to breaking code or invalid results. Use at your own risk.\n",
      "  UserWarning)\n",
      "/home/drakstik/anaconda3/lib/python3.7/site-packages/sklearn/base.py:318: UserWarning: Trying to unpickle estimator GridSearchCV from version 0.22.2.post1 when using version 0.22.1. This might lead to breaking code or invalid results. Use at your own risk.\n",
      "  UserWarning)\n"
     ]
    },
    {
     "name": "stdout",
     "output_type": "stream",
     "text": [
      "The accuracy score of the model on test set is :  0.5899390243902439\n",
      "The accuracy score of the model on train set is :  1.0\n"
     ]
    }
   ],
   "source": [
    "from sklearn.externals import joblib\n",
    "from sklearn.preprocessing import StandardScaler\n",
    "from sklearn.feature_selection import SelectKBest\n",
    "from sklearn.ensemble import RandomForestClassifier\n",
    "from sklearn.feature_selection import mutual_info_classif\n",
    "\n",
    "# These next two lines take over 90 minutes to run\n",
    "# search_res = gridd()\n",
    "# joblib.dump(search_res, 'search_res.pkl')\n",
    "# loaded_res = joblib.load('search_res.pkl')\n",
    "\n",
    "# Scaling the train and test data\n",
    "scaler = StandardScaler()\n",
    "scaler.fit(X_train)\n",
    "X_train_scaled = scaler.transform(X_train)\n",
    "X_test_scaled = scaler.transform(X_test)\n",
    "\n",
    "# Selecting 10 best features\n",
    "selector = SelectKBest(k=10, score_func=mutual_info_classif)\n",
    "selector.fit(X=X_train, y=y_train)\n",
    "X_train_selected = selector.transform(X_train_scaled)\n",
    "X_test_selected = selector.transform(X_test_scaled)\n",
    "\n",
    "# Fitting and scoring the classifier\n",
    "classifier = RandomForestClassifier(bootstrap=True, ccp_alpha=0.0,class_weight=None, criterion='gini', max_depth=None, max_features='auto',\n",
    "                                        max_leaf_nodes=None, max_samples=None, min_impurity_decrease=0.0,\n",
    "                                        min_impurity_split=None, min_samples_leaf=1, min_samples_split=2,\n",
    "                                        min_weight_fraction_leaf=0.0, n_estimators=100, n_jobs=None,\n",
    "                                        oob_score=False, random_state=None, verbose=0, warm_start=False)\n",
    "classifier.fit(X=X_train_selected, y=y_train)\n",
    "print('The accuracy score of the model on test set is : ', classifier.score(X_test_selected, y_test))\n",
    "print('The accuracy score of the model on train set is : ', classifier.score(X_train_selected, y_train))"
   ]
  },
  {
   "cell_type": "markdown",
   "metadata": {},
   "source": [
    "### 3.6. Model Evaluation\n",
    "* We use a balanced accuracy metric and use the GridSearchCV results to find the best_score_ and best_estimator.\n",
    "* The GridSearchCV function takes over 90 minutes so we ran it earlier and saved the results for easy access."
   ]
  },
  {
   "cell_type": "code",
   "execution_count": 51,
   "metadata": {
    "ExecuteTime": {
     "end_time": "2020-06-18T05:01:46.197008Z",
     "start_time": "2020-06-18T05:01:46.193294Z"
    }
   },
   "outputs": [
    {
     "name": "stdout",
     "output_type": "stream",
     "text": [
      "Pipeline(memory=None,\n",
      "         steps=[('scaler',\n",
      "                 StandardScaler(copy=True, with_mean=True, with_std=True)),\n",
      "                ('selector',\n",
      "                 SelectKBest(k=20,\n",
      "                             score_func=<function mutual_info_classif at 0x7f4adb9b1e60>)),\n",
      "                ('classifier',\n",
      "                 RandomForestClassifier(bootstrap=True, ccp_alpha=0.0,\n",
      "                                        class_weight=None, criterion='gini',\n",
      "                                        max_depth=None, max_features='auto',\n",
      "                                        max_leaf_nodes=None, max_samples=None,\n",
      "                                        min_impurity_decrease=0.0,\n",
      "                                        min_impurity_split=None,\n",
      "                                        min_samples_leaf=1, min_samples_split=2,\n",
      "                                        min_weight_fraction_leaf=0.0,\n",
      "                                        n_estimators=100, n_jobs=None,\n",
      "                                        oob_score=False, random_state=None,\n",
      "                                        verbose=0, warm_start=False))],\n",
      "         verbose=False) 0.572528747510428\n"
     ]
    }
   ],
   "source": [
    "# print(loaded_res.best_estimator_, loaded_res.best_score_)"
   ]
  },
  {
   "cell_type": "markdown",
   "metadata": {},
   "source": [
    "#### * The best estimator used StandardScaler as a scaler, SelectKBest as a selector and Random Forest Classifier as a classification function, and the best accuracy score was 0.5725."
   ]
  },
  {
   "cell_type": "markdown",
   "metadata": {},
   "source": [
    "## 4. RESULTS - Regression"
   ]
  },
  {
   "cell_type": "markdown",
   "metadata": {},
   "source": [
    "### 4.1 Data Wrangling\n",
    "In this section, we are going to use regression algorithm on our dataset. To make this dataset more concise at a certain amount of period, the dataset was cleaned up, and new features were created to a new dataframe."
   ]
  },
  {
   "cell_type": "code",
   "execution_count": 23,
   "metadata": {
    "ExecuteTime": {
     "end_time": "2020-06-18T05:29:54.526734Z",
     "start_time": "2020-06-18T05:29:54.523988Z"
    }
   },
   "outputs": [],
   "source": [
    "## Import necessary libraries \n",
    "\n",
    "from sklearn.linear_model import LinearRegression\n",
    "from sklearn.model_selection import train_test_split\n",
    "from sklearn.preprocessing import MinMaxScaler\n",
    "from sklearn.linear_model import Lasso\n",
    "from sklearn.neighbors import KNeighborsRegressor\n",
    "from sklearn.metrics import r2_score\n",
    "from sklearn.svm import SVR"
   ]
  },
  {
   "cell_type": "code",
   "execution_count": 27,
   "metadata": {
    "ExecuteTime": {
     "end_time": "2020-06-18T05:30:57.938087Z",
     "start_time": "2020-06-18T05:30:51.931184Z"
    }
   },
   "outputs": [
    {
     "data": {
      "text/html": [
       "<div>\n",
       "<style scoped>\n",
       "    .dataframe tbody tr th:only-of-type {\n",
       "        vertical-align: middle;\n",
       "    }\n",
       "\n",
       "    .dataframe tbody tr th {\n",
       "        vertical-align: top;\n",
       "    }\n",
       "\n",
       "    .dataframe thead th {\n",
       "        text-align: right;\n",
       "    }\n",
       "</style>\n",
       "<table border=\"1\" class=\"dataframe\">\n",
       "  <thead>\n",
       "    <tr style=\"text-align: right;\">\n",
       "      <th></th>\n",
       "      <th>unix</th>\n",
       "      <th>TradeDate</th>\n",
       "      <th>symbol</th>\n",
       "      <th>price</th>\n",
       "      <th>amount</th>\n",
       "      <th>type</th>\n",
       "      <th>trans_id</th>\n",
       "    </tr>\n",
       "  </thead>\n",
       "  <tbody>\n",
       "    <tr>\n",
       "      <th>0</th>\n",
       "      <td>1579225081686</td>\n",
       "      <td>2020-01-17 01:38:01</td>\n",
       "      <td>BTCUSD</td>\n",
       "      <td>8693.36</td>\n",
       "      <td>0.000010</td>\n",
       "      <td>sell</td>\n",
       "      <td>9406659516</td>\n",
       "    </tr>\n",
       "    <tr>\n",
       "      <th>1</th>\n",
       "      <td>1579225080644</td>\n",
       "      <td>2020-01-17 01:38:00</td>\n",
       "      <td>BTCUSD</td>\n",
       "      <td>8698.94</td>\n",
       "      <td>0.002117</td>\n",
       "      <td>buy</td>\n",
       "      <td>9406659495</td>\n",
       "    </tr>\n",
       "    <tr>\n",
       "      <th>2</th>\n",
       "      <td>1579224957646</td>\n",
       "      <td>2020-01-17 01:35:57</td>\n",
       "      <td>BTCUSD</td>\n",
       "      <td>8690.22</td>\n",
       "      <td>0.000010</td>\n",
       "      <td>sell</td>\n",
       "      <td>9406650272</td>\n",
       "    </tr>\n",
       "    <tr>\n",
       "      <th>3</th>\n",
       "      <td>1579224956325</td>\n",
       "      <td>2020-01-17 01:35:56</td>\n",
       "      <td>BTCUSD</td>\n",
       "      <td>8699.48</td>\n",
       "      <td>0.028177</td>\n",
       "      <td>buy</td>\n",
       "      <td>9406650194</td>\n",
       "    </tr>\n",
       "    <tr>\n",
       "      <th>4</th>\n",
       "      <td>1579224953641</td>\n",
       "      <td>2020-01-17 01:35:53</td>\n",
       "      <td>BTCUSD</td>\n",
       "      <td>8690.22</td>\n",
       "      <td>0.000010</td>\n",
       "      <td>sell</td>\n",
       "      <td>9406649894</td>\n",
       "    </tr>\n",
       "  </tbody>\n",
       "</table>\n",
       "</div>"
      ],
      "text/plain": [
       "            unix            TradeDate  symbol    price    amount  type  \\\n",
       "0  1579225081686  2020-01-17 01:38:01  BTCUSD  8693.36  0.000010  sell   \n",
       "1  1579225080644  2020-01-17 01:38:00  BTCUSD  8698.94  0.002117   buy   \n",
       "2  1579224957646  2020-01-17 01:35:57  BTCUSD  8690.22  0.000010  sell   \n",
       "3  1579224956325  2020-01-17 01:35:56  BTCUSD  8699.48  0.028177   buy   \n",
       "4  1579224953641  2020-01-17 01:35:53  BTCUSD  8690.22  0.000010  sell   \n",
       "\n",
       "     trans_id  \n",
       "0  9406659516  \n",
       "1  9406659495  \n",
       "2  9406650272  \n",
       "3  9406650194  \n",
       "4  9406649894  "
      ]
     },
     "execution_count": 27,
     "metadata": {},
     "output_type": "execute_result"
    }
   ],
   "source": [
    "import plotly.express as px\n",
    "import datetime as dt\n",
    "import matplotlib.pyplot as plt\n",
    "\n",
    "df_market = pd.read_csv('https://raw.githubusercontent.com/drakstik/DS3000FinalRes/master/Gemini_BTCUSD_tradeprints_Q4_2019.csv')\n",
    "df_market.head()"
   ]
  },
  {
   "cell_type": "code",
   "execution_count": 28,
   "metadata": {
    "ExecuteTime": {
     "end_time": "2020-06-18T05:30:57.941621Z",
     "start_time": "2020-06-18T05:30:57.939239Z"
    }
   },
   "outputs": [
    {
     "data": {
      "text/plain": [
       "(765528, 7)"
      ]
     },
     "execution_count": 28,
     "metadata": {},
     "output_type": "execute_result"
    }
   ],
   "source": [
    "## Check the size of the data\n",
    "df_market.shape"
   ]
  },
  {
   "cell_type": "code",
   "execution_count": 29,
   "metadata": {
    "ExecuteTime": {
     "end_time": "2020-06-18T05:30:58.062883Z",
     "start_time": "2020-06-18T05:30:57.942692Z"
    }
   },
   "outputs": [
    {
     "data": {
      "text/html": [
       "<div>\n",
       "<style scoped>\n",
       "    .dataframe tbody tr th:only-of-type {\n",
       "        vertical-align: middle;\n",
       "    }\n",
       "\n",
       "    .dataframe tbody tr th {\n",
       "        vertical-align: top;\n",
       "    }\n",
       "\n",
       "    .dataframe thead th {\n",
       "        text-align: right;\n",
       "    }\n",
       "</style>\n",
       "<table border=\"1\" class=\"dataframe\">\n",
       "  <thead>\n",
       "    <tr style=\"text-align: right;\">\n",
       "      <th></th>\n",
       "      <th>price</th>\n",
       "      <th>amount</th>\n",
       "      <th>type</th>\n",
       "    </tr>\n",
       "    <tr>\n",
       "      <th>TradeDate</th>\n",
       "      <th></th>\n",
       "      <th></th>\n",
       "      <th></th>\n",
       "    </tr>\n",
       "  </thead>\n",
       "  <tbody>\n",
       "    <tr>\n",
       "      <th>2020-01-17 01:38:01</th>\n",
       "      <td>8693.36</td>\n",
       "      <td>0.000010</td>\n",
       "      <td>sell</td>\n",
       "    </tr>\n",
       "    <tr>\n",
       "      <th>2020-01-17 01:38:00</th>\n",
       "      <td>8698.94</td>\n",
       "      <td>0.002117</td>\n",
       "      <td>buy</td>\n",
       "    </tr>\n",
       "    <tr>\n",
       "      <th>2020-01-17 01:35:57</th>\n",
       "      <td>8690.22</td>\n",
       "      <td>0.000010</td>\n",
       "      <td>sell</td>\n",
       "    </tr>\n",
       "    <tr>\n",
       "      <th>2020-01-17 01:35:56</th>\n",
       "      <td>8699.48</td>\n",
       "      <td>0.028177</td>\n",
       "      <td>buy</td>\n",
       "    </tr>\n",
       "    <tr>\n",
       "      <th>2020-01-17 01:35:53</th>\n",
       "      <td>8690.22</td>\n",
       "      <td>0.000010</td>\n",
       "      <td>sell</td>\n",
       "    </tr>\n",
       "  </tbody>\n",
       "</table>\n",
       "</div>"
      ],
      "text/plain": [
       "                       price    amount  type\n",
       "TradeDate                                   \n",
       "2020-01-17 01:38:01  8693.36  0.000010  sell\n",
       "2020-01-17 01:38:00  8698.94  0.002117   buy\n",
       "2020-01-17 01:35:57  8690.22  0.000010  sell\n",
       "2020-01-17 01:35:56  8699.48  0.028177   buy\n",
       "2020-01-17 01:35:53  8690.22  0.000010  sell"
      ]
     },
     "execution_count": 29,
     "metadata": {},
     "output_type": "execute_result"
    }
   ],
   "source": [
    "## discard unnecessary columns and set tradedate as index\n",
    "\n",
    "df_market = df_market.drop([\"unix\", \"symbol\", \"trans_id\"], axis=1)\n",
    "df_market[\"TradeDate\"] = pd.to_datetime(df_market[\"TradeDate\"])\n",
    "df_market.set_index(pd.DatetimeIndex(df_market[\"TradeDate\"]), inplace=True)\n",
    "df_market.drop(['TradeDate'], axis=1, inplace=True)\n",
    "df_market.head()"
   ]
  },
  {
   "cell_type": "code",
   "execution_count": 30,
   "metadata": {
    "ExecuteTime": {
     "end_time": "2020-06-18T05:30:59.752801Z",
     "start_time": "2020-06-18T05:30:59.719036Z"
    }
   },
   "outputs": [
    {
     "data": {
      "text/html": [
       "<div>\n",
       "<style scoped>\n",
       "    .dataframe tbody tr th:only-of-type {\n",
       "        vertical-align: middle;\n",
       "    }\n",
       "\n",
       "    .dataframe tbody tr th {\n",
       "        vertical-align: top;\n",
       "    }\n",
       "\n",
       "    .dataframe thead th {\n",
       "        text-align: right;\n",
       "    }\n",
       "</style>\n",
       "<table border=\"1\" class=\"dataframe\">\n",
       "  <thead>\n",
       "    <tr style=\"text-align: right;\">\n",
       "      <th></th>\n",
       "      <th>price</th>\n",
       "      <th>amount</th>\n",
       "      <th>type</th>\n",
       "    </tr>\n",
       "    <tr>\n",
       "      <th>TradeDate</th>\n",
       "      <th></th>\n",
       "      <th></th>\n",
       "      <th></th>\n",
       "    </tr>\n",
       "  </thead>\n",
       "  <tbody>\n",
       "    <tr>\n",
       "      <th>2019-09-01 00:01:03</th>\n",
       "      <td>9598.28</td>\n",
       "      <td>0.005686</td>\n",
       "      <td>buy</td>\n",
       "    </tr>\n",
       "    <tr>\n",
       "      <th>2019-09-01 00:02:27</th>\n",
       "      <td>9602.25</td>\n",
       "      <td>0.018967</td>\n",
       "      <td>buy</td>\n",
       "    </tr>\n",
       "    <tr>\n",
       "      <th>2019-09-01 00:05:04</th>\n",
       "      <td>9616.12</td>\n",
       "      <td>0.020000</td>\n",
       "      <td>buy</td>\n",
       "    </tr>\n",
       "    <tr>\n",
       "      <th>2019-09-01 00:05:50</th>\n",
       "      <td>9619.22</td>\n",
       "      <td>0.687976</td>\n",
       "      <td>buy</td>\n",
       "    </tr>\n",
       "    <tr>\n",
       "      <th>2019-09-01 00:06:22</th>\n",
       "      <td>9615.58</td>\n",
       "      <td>0.008051</td>\n",
       "      <td>buy</td>\n",
       "    </tr>\n",
       "  </tbody>\n",
       "</table>\n",
       "</div>"
      ],
      "text/plain": [
       "                       price    amount type\n",
       "TradeDate                                  \n",
       "2019-09-01 00:01:03  9598.28  0.005686  buy\n",
       "2019-09-01 00:02:27  9602.25  0.018967  buy\n",
       "2019-09-01 00:05:04  9616.12  0.020000  buy\n",
       "2019-09-01 00:05:50  9619.22  0.687976  buy\n",
       "2019-09-01 00:06:22  9615.58  0.008051  buy"
      ]
     },
     "execution_count": 30,
     "metadata": {},
     "output_type": "execute_result"
    }
   ],
   "source": [
    "## Reverse the chronological order of dataset\n",
    "\n",
    "df_market.sort_index(ascending=True, inplace=True)\n",
    "df_market.head()"
   ]
  },
  {
   "cell_type": "markdown",
   "metadata": {},
   "source": [
    "#### Create new features from existing features\n",
    "\n",
    "1. volume: the total amount of transaction over a period of time\n",
    "2. spread: maximum bid - minimim ask\n",
    "3. mean amount: mean amount of transaction over a period of time"
   ]
  },
  {
   "cell_type": "code",
   "execution_count": 31,
   "metadata": {
    "ExecuteTime": {
     "end_time": "2020-06-18T05:31:01.452668Z",
     "start_time": "2020-06-18T05:31:01.450271Z"
    }
   },
   "outputs": [],
   "source": [
    "def get_volume(df, period):\n",
    "    '''\n",
    "    function: get_volume\n",
    "    param: df (dataframe), period (str)\n",
    "    return: volume (series)\n",
    "    Does: get the volume in a certain period of time\n",
    "    '''\n",
    "    \n",
    "    volume = df.amount.resample(period).sum()\n",
    "    return volume"
   ]
  },
  {
   "cell_type": "code",
   "execution_count": 32,
   "metadata": {
    "ExecuteTime": {
     "end_time": "2020-06-18T05:31:03.306389Z",
     "start_time": "2020-06-18T05:31:03.302363Z"
    }
   },
   "outputs": [],
   "source": [
    "def get_spread(df, period):\n",
    "    '''\n",
    "    function: get_spread\n",
    "    param: df(dataframe), period(str)\n",
    "    return: df_spread(dataframe)\n",
    "    Does: calculate spread (=bid-ask)\n",
    "    '''\n",
    "    \n",
    "    sell = df.loc[df['type'] == 'sell'].amount.resample(period).min().values\n",
    "    df_spread = pd.DataFrame(sell, columns=['min_sell'])\n",
    "    \n",
    "    buy = df.loc[df['type'] == 'buy'].amount.resample(period).max().values\n",
    "    df_spread['max_buy'] = pd.DataFrame(buy)\n",
    "    \n",
    "    df_spread['spread'] = df_spread['max_buy'] - df_spread['min_sell']\n",
    "    \n",
    "    start = '2019-09-01 00:00:00'\n",
    "    end = '2020-01-17 01:38:01'\n",
    "    pdr = pd.date_range(start=start, end=end, freq=period)\n",
    "    df_spread.set_index(pdr, inplace=True)\n",
    "    \n",
    "    return df_spread"
   ]
  },
  {
   "cell_type": "code",
   "execution_count": 33,
   "metadata": {
    "ExecuteTime": {
     "end_time": "2020-06-18T05:31:04.152910Z",
     "start_time": "2020-06-18T05:31:04.008286Z"
    }
   },
   "outputs": [],
   "source": [
    "## create a new dataframe with new features\n",
    "## set the period as 30 min\n",
    "\n",
    "columns = [\"TradeDate\", \"volume\", \"mean amount\", 'spread']\n",
    "\n",
    "volume = get_volume(df_market, '30 Min')\n",
    "mean_amount = df_market.amount.resample('30 Min').mean()\n",
    "spread = get_spread(df_market, '30 Min')\n",
    "\n",
    "df = pd.DataFrame(mean_amount)\n",
    "df['volume'] = pd.DataFrame(volume)\n",
    "\n",
    "df = pd.concat([df, spread], axis=1, sort=False)\n",
    "df.rename(columns = {'amount':'mean amount'}, inplace=True)"
   ]
  },
  {
   "cell_type": "code",
   "execution_count": 34,
   "metadata": {
    "ExecuteTime": {
     "end_time": "2020-06-18T05:31:04.670887Z",
     "start_time": "2020-06-18T05:31:04.662016Z"
    }
   },
   "outputs": [
    {
     "data": {
      "text/html": [
       "<div>\n",
       "<style scoped>\n",
       "    .dataframe tbody tr th:only-of-type {\n",
       "        vertical-align: middle;\n",
       "    }\n",
       "\n",
       "    .dataframe tbody tr th {\n",
       "        vertical-align: top;\n",
       "    }\n",
       "\n",
       "    .dataframe thead th {\n",
       "        text-align: right;\n",
       "    }\n",
       "</style>\n",
       "<table border=\"1\" class=\"dataframe\">\n",
       "  <thead>\n",
       "    <tr style=\"text-align: right;\">\n",
       "      <th></th>\n",
       "      <th>mean amount</th>\n",
       "      <th>volume</th>\n",
       "      <th>min_sell</th>\n",
       "      <th>max_buy</th>\n",
       "      <th>spread</th>\n",
       "    </tr>\n",
       "    <tr>\n",
       "      <th>TradeDate</th>\n",
       "      <th></th>\n",
       "      <th></th>\n",
       "      <th></th>\n",
       "      <th></th>\n",
       "      <th></th>\n",
       "    </tr>\n",
       "  </thead>\n",
       "  <tbody>\n",
       "    <tr>\n",
       "      <th>2019-09-01 00:00:00</th>\n",
       "      <td>0.057814</td>\n",
       "      <td>2.254752</td>\n",
       "      <td>0.029662</td>\n",
       "      <td>0.687976</td>\n",
       "      <td>0.658314</td>\n",
       "    </tr>\n",
       "    <tr>\n",
       "      <th>2019-09-01 00:30:00</th>\n",
       "      <td>0.058069</td>\n",
       "      <td>1.335593</td>\n",
       "      <td>0.000193</td>\n",
       "      <td>0.254428</td>\n",
       "      <td>0.254235</td>\n",
       "    </tr>\n",
       "    <tr>\n",
       "      <th>2019-09-01 01:00:00</th>\n",
       "      <td>0.067077</td>\n",
       "      <td>1.878166</td>\n",
       "      <td>0.000519</td>\n",
       "      <td>1.034388</td>\n",
       "      <td>1.033870</td>\n",
       "    </tr>\n",
       "    <tr>\n",
       "      <th>2019-09-01 01:30:00</th>\n",
       "      <td>0.304757</td>\n",
       "      <td>15.237854</td>\n",
       "      <td>0.001070</td>\n",
       "      <td>2.588800</td>\n",
       "      <td>2.587730</td>\n",
       "    </tr>\n",
       "    <tr>\n",
       "      <th>2019-09-01 02:00:00</th>\n",
       "      <td>0.106365</td>\n",
       "      <td>3.722786</td>\n",
       "      <td>0.005882</td>\n",
       "      <td>0.519217</td>\n",
       "      <td>0.513335</td>\n",
       "    </tr>\n",
       "  </tbody>\n",
       "</table>\n",
       "</div>"
      ],
      "text/plain": [
       "                     mean amount     volume  min_sell   max_buy    spread\n",
       "TradeDate                                                                \n",
       "2019-09-01 00:00:00     0.057814   2.254752  0.029662  0.687976  0.658314\n",
       "2019-09-01 00:30:00     0.058069   1.335593  0.000193  0.254428  0.254235\n",
       "2019-09-01 01:00:00     0.067077   1.878166  0.000519  1.034388  1.033870\n",
       "2019-09-01 01:30:00     0.304757  15.237854  0.001070  2.588800  2.587730\n",
       "2019-09-01 02:00:00     0.106365   3.722786  0.005882  0.519217  0.513335"
      ]
     },
     "execution_count": 34,
     "metadata": {},
     "output_type": "execute_result"
    }
   ],
   "source": [
    "df.dropna(inplace=True)\n",
    "df.head()"
   ]
  },
  {
   "cell_type": "markdown",
   "metadata": {},
   "source": [
    "### 4.2. Data Exploration\n",
    "We would like to generate simple time change graphs of our features on one single graph, but the scaling is off, so the graphs have to be done after the dataset has been scaled."
   ]
  },
  {
   "cell_type": "markdown",
   "metadata": {},
   "source": [
    "### Visualizing dataset\n",
    "#### Determine Hypotheses \n",
    "In this segment, one of the hypotheses was determined from visualization. \n",
    "\n",
    "**Hypothesis: The volume, which represents the total amount of transactions, will increase every two weeks because people receive their salary.**\n",
    "\n"
   ]
  },
  {
   "cell_type": "code",
   "execution_count": 35,
   "metadata": {
    "ExecuteTime": {
     "end_time": "2020-06-18T05:31:06.061753Z",
     "start_time": "2020-06-18T05:31:06.058872Z"
    }
   },
   "outputs": [],
   "source": [
    "%matplotlib inline"
   ]
  },
  {
   "cell_type": "code",
   "execution_count": 36,
   "metadata": {
    "ExecuteTime": {
     "end_time": "2020-06-18T05:31:06.809173Z",
     "start_time": "2020-06-18T05:31:06.807229Z"
    }
   },
   "outputs": [],
   "source": [
    "from matplotlib.pyplot import figure"
   ]
  },
  {
   "cell_type": "code",
   "execution_count": 42,
   "metadata": {
    "ExecuteTime": {
     "end_time": "2020-06-18T05:32:59.143988Z",
     "start_time": "2020-06-18T05:32:58.983920Z"
    }
   },
   "outputs": [
    {
     "data": {
      "image/png": "[encoded data removed]",
      "text/plain": [
       "<Figure size 432x288 with 1 Axes>"
      ]
     },
     "metadata": {
      "needs_background": "light"
     },
     "output_type": "display_data"
    }
   ],
   "source": [
    "volume_by_period = df.volume.resample('2W').mean()\n",
    "plt.plot(volume_by_period)\n",
    "plt.title(\"The volume over a period of 2 weeks\")\n",
    "plt.ylabel(\"volume\")\n",
    "plt.savefig('volume_twoweeks.png')\n",
    "plt.show()"
   ]
  },
  {
   "cell_type": "markdown",
   "metadata": {},
   "source": [
    "##### Fig. 2 Interpretation:\n",
    "\n",
    "\n",
    "This graph shows us how the volume of cryptocurrency have transited over five months. It consists of volume on the Y axis and a period of two week on the X axis. \n",
    "\n",
    "This graph was created to see whether  the hypothesis is comfirmed or not. Middle of each month represents two weeks from the beginning of a month. Except the beginning of September, mostly we can admit that the peak is coming either the beginning of a month or middle of each month. Increasing volume means that the market gets more active. Therefore, it can be concluded that the market gets more active in two-week period. This doesn't mean it's because people receive their salary, but we have a space to consider it as the reason. The limitation of this graph is a lack of data range. To verify this hypotheses in general, then the dataset has to contain complete more than one-year data."
   ]
  },
  {
   "cell_type": "code",
   "execution_count": 38,
   "metadata": {
    "ExecuteTime": {
     "end_time": "2020-06-18T05:31:09.579672Z",
     "start_time": "2020-06-18T05:31:08.582748Z"
    },
    "scrolled": false
   },
   "outputs": [
    {
     "data": {
      "text/plain": [
       "<matplotlib.axes._subplots.AxesSubplot at 0x7ff8716688d0>"
      ]
     },
     "execution_count": 38,
     "metadata": {},
     "output_type": "execute_result"
    },
    {
     "data": {
      "image/png": "[encoded data removed]",
      "text/plain": [
       "<Figure size 1152x576 with 1 Axes>"
      ]
     },
     "metadata": {
      "needs_background": "light"
     },
     "output_type": "display_data"
    }
   ],
   "source": [
    "sell = df_market.loc[df_market[\"type\"] == \"sell\"].amount\n",
    "buy = df_market.loc[df_market[\"type\"] == \"buy\"].amount\n",
    "df_market.dropna(inplace=True)\n",
    "df_market.reset_index(inplace=True)\n",
    "\n",
    "df_market.plot(x = 'TradeDate', y = 'price',\n",
    "               label = \"price\", figsize = (16,8), title = \"Price from September 2019 to January 2020\")"
   ]
  },
  {
   "cell_type": "markdown",
   "metadata": {},
   "source": [
    "##### Fig. 3 Interpretation\n",
    "\n",
    "This graph shows us price changes over five month. It consists of price on the Y axis and time on the X axis.\n",
    "\n",
    "This graph shows that the price is dynamic, not static value. As shown in the price chart, the price never stays same as time goes by. "
   ]
  },
  {
   "cell_type": "code",
   "execution_count": 39,
   "metadata": {
    "ExecuteTime": {
     "end_time": "2020-06-18T05:31:10.314249Z",
     "start_time": "2020-06-18T05:31:10.154993Z"
    }
   },
   "outputs": [
    {
     "data": {
      "image/png": "[encoded data removed]",
      "text/plain": [
       "<Figure size 432x288 with 1 Axes>"
      ]
     },
     "metadata": {},
     "output_type": "display_data"
    }
   ],
   "source": [
    "## proportion of buy and sell\n",
    "\n",
    "sell = len(df_market.loc[df_market[\"type\"] == \"sell\"]) / len(df_market)\n",
    "buy = len(df_market.loc[df_market[\"type\"] == \"buy\"]) / len(df_market)\n",
    "\n",
    "labels = 'sell', 'buy'\n",
    "sizes = [sell, buy]\n",
    "\n",
    "fig1, ax1 = plt.subplots()\n",
    "ax1.pie(sizes, labels=labels, autopct='%1.1f%%',\n",
    "        shadow=True, startangle=90, colors=['tab:blue','tab:orange'] )\n",
    "\n",
    "ax1.axis('equal')  # Equal aspect ratio ensures that pie is drawn as a circle.\n",
    "\n",
    "plt.show()"
   ]
  },
  {
   "cell_type": "markdown",
   "metadata": {},
   "source": [
    "##### Fig. 4 Interpretation\n",
    "\n",
    "This graph shows the ratio of buy and sell. The organge region represents buy while blue region is sell. As shown in this pie chart, both buy and sell are almost 50:50. This means that both seller and buyer are consistent, and the market maintains \"healthy\". If the ratio of buy is larger than 50%, everyone is selling their cryptocurrency, which will lead the reduction of the currency price. "
   ]
  },
  {
   "cell_type": "markdown",
   "metadata": {},
   "source": [
    "### 4.3. Model Construction\n",
    "We’ll need a function that given a set of features, targets it will run different regression analysis models and compare them to each other."
   ]
  },
  {
   "cell_type": "markdown",
   "metadata": {},
   "source": [
    "#### Adjust for prediction"
   ]
  },
  {
   "cell_type": "code",
   "execution_count": 40,
   "metadata": {
    "ExecuteTime": {
     "end_time": "2020-06-18T05:31:12.003319Z",
     "start_time": "2020-06-18T05:31:12.000705Z"
    }
   },
   "outputs": [],
   "source": [
    "target = df[\"mean amount\"]\n",
    "features = df.drop('mean amount', axis=1)"
   ]
  },
  {
   "cell_type": "code",
   "execution_count": null,
   "metadata": {
    "ExecuteTime": {
     "end_time": "2020-06-18T04:10:21.585663Z",
     "start_time": "2020-06-18T04:08:47.549Z"
    }
   },
   "outputs": [],
   "source": [
    "#split data into training and testing sets\n",
    "X_train, X_test, y_train, y_test = train_test_split(features, target, random_state=3000)"
   ]
  },
  {
   "cell_type": "markdown",
   "metadata": {},
   "source": [
    "#### Preprocessing"
   ]
  },
  {
   "cell_type": "code",
   "execution_count": null,
   "metadata": {
    "ExecuteTime": {
     "end_time": "2020-06-18T04:10:21.586121Z",
     "start_time": "2020-06-18T04:08:47.551Z"
    }
   },
   "outputs": [],
   "source": [
    "def preprocessor(train, test):\n",
    "    \n",
    "    '''\n",
    "    function: preprocessor \n",
    "    param: train, test (Dataframe)\n",
    "    return: X_train_scaled, X_test_scaled (numpy array)\n",
    "    Does: preprocess the data between 0 and 1 by using MinMaxScaler \n",
    "    '''\n",
    "    \n",
    "    scaler = MinMaxScaler().fit(train)\n",
    "    #scaler = StandardScaler().fit(train)\n",
    "    X_train_scaled = scaler.transform(train)\n",
    "    X_test_scaled = scaler.transform(test)\n",
    "\n",
    "    return X_train_scaled, X_test_scaled"
   ]
  },
  {
   "cell_type": "code",
   "execution_count": null,
   "metadata": {
    "ExecuteTime": {
     "end_time": "2020-06-18T04:10:21.586705Z",
     "start_time": "2020-06-18T04:08:47.552Z"
    }
   },
   "outputs": [],
   "source": [
    "X_train_scaled, X_test_scaled = preprocessor(X_train, X_test)"
   ]
  },
  {
   "cell_type": "markdown",
   "metadata": {},
   "source": [
    "### feature selection - Univariate Selection\n",
    "\n",
    "Univariate selection was chosen for feature selection because it considers each feature indipendently and selects features with the highest confidence. On the other hand, other features selections such as model-based features selection and iterative features selection were not suitable for this dataset. Model-based features selection will select the most important \"one\" feature. However, this project was aimed to see the relationship among features. Therefore, Model-based features selection is not suitable. Iterative features selection is not effective because this dataset has only five features. If it contains many features and is hard to determine the important ones, the it'd work effectively. But it's not. Thus, Univariate selection is the best choise for feature selection in this dataset. "
   ]
  },
  {
   "cell_type": "code",
   "execution_count": null,
   "metadata": {
    "ExecuteTime": {
     "end_time": "2020-06-18T04:10:21.587176Z",
     "start_time": "2020-06-18T04:08:47.553Z"
    }
   },
   "outputs": [],
   "source": [
    "from sklearn.feature_selection import SelectKBest\n",
    "from sklearn.feature_selection import f_regression"
   ]
  },
  {
   "cell_type": "code",
   "execution_count": null,
   "metadata": {
    "ExecuteTime": {
     "end_time": "2020-06-18T04:10:21.587775Z",
     "start_time": "2020-06-18T04:08:47.554Z"
    }
   },
   "outputs": [],
   "source": [
    "select = SelectKBest(score_func=f_regression, k = 2)\n",
    "select.fit(X_train_scaled, y_train)\n",
    "\n",
    "X_train_selected = select.transform(X_train_scaled)\n",
    "X_test_selected = select.transform(X_test_scaled)"
   ]
  },
  {
   "cell_type": "code",
   "execution_count": null,
   "metadata": {
    "ExecuteTime": {
     "end_time": "2020-06-18T04:10:21.588350Z",
     "start_time": "2020-06-18T04:08:47.555Z"
    }
   },
   "outputs": [],
   "source": [
    "X_train_selected"
   ]
  },
  {
   "cell_type": "code",
   "execution_count": null,
   "metadata": {
    "ExecuteTime": {
     "end_time": "2020-06-18T04:10:21.589212Z",
     "start_time": "2020-06-18T04:08:47.556Z"
    }
   },
   "outputs": [],
   "source": [
    "features.columns"
   ]
  },
  {
   "cell_type": "code",
   "execution_count": null,
   "metadata": {
    "ExecuteTime": {
     "end_time": "2020-06-18T04:10:21.589897Z",
     "start_time": "2020-06-18T04:08:47.557Z"
    }
   },
   "outputs": [],
   "source": [
    "select.get_support()"
   ]
  },
  {
   "cell_type": "markdown",
   "metadata": {},
   "source": [
    "### 4.4. Model Evaluation\n",
    "We shall use regression model evaluation techniques from class such as r2_score() and Mean Squared Error for predictive accuracy."
   ]
  },
  {
   "cell_type": "code",
   "execution_count": null,
   "metadata": {
    "ExecuteTime": {
     "end_time": "2020-06-18T04:10:21.590425Z",
     "start_time": "2020-06-18T04:08:47.558Z"
    }
   },
   "outputs": [],
   "source": [
    "model_original = LinearRegression().fit(X=X_train_scaled, y=y_train)\n",
    "\n",
    "print(\"Original results:\")\n",
    "print(\"\\tR-squared value for training set: \", r2_score(y_train, model_original.predict(X_train_scaled)))\n",
    "print(\"\\tR-squared value for testing set: \", r2_score(y_test, model_original.predict(X_test_scaled)))\n",
    "\n",
    "\n",
    "model_selected = LinearRegression().fit(X=X_train_selected, y=y_train)\n",
    "\n",
    "print(\"With selected features:\")\n",
    "print(\"\\tR-squared value for training set: \", r2_score(y_train, model_selected.predict(X_train_selected)))\n",
    "print(\"\\tR-squared value for testing set: \", r2_score(y_test, model_selected.predict(X_test_selected)))"
   ]
  },
  {
   "cell_type": "markdown",
   "metadata": {},
   "source": [
    "### 4.5. Model Testing\n",
    "Test your tuned algorithms using your testing set"
   ]
  },
  {
   "cell_type": "code",
   "execution_count": null,
   "metadata": {
    "ExecuteTime": {
     "end_time": "2020-06-18T04:10:21.591010Z",
     "start_time": "2020-06-18T04:08:47.560Z"
    }
   },
   "outputs": [],
   "source": [
    "predicted_original = model_original.predict(X_test_scaled)\n",
    "predicted_selected = model_selected.predict(X_test_selected)\n",
    "\n",
    "expected = y_test"
   ]
  },
  {
   "cell_type": "code",
   "execution_count": null,
   "metadata": {
    "ExecuteTime": {
     "end_time": "2020-06-18T04:10:21.591467Z",
     "start_time": "2020-06-18T04:08:47.561Z"
    }
   },
   "outputs": [],
   "source": [
    "predicted_original[:5]"
   ]
  },
  {
   "cell_type": "code",
   "execution_count": null,
   "metadata": {
    "ExecuteTime": {
     "end_time": "2020-06-18T04:10:21.592053Z",
     "start_time": "2020-06-18T04:08:47.562Z"
    }
   },
   "outputs": [],
   "source": [
    "predicted_selected[:5]"
   ]
  },
  {
   "cell_type": "code",
   "execution_count": null,
   "metadata": {
    "ExecuteTime": {
     "end_time": "2020-06-18T04:10:21.592645Z",
     "start_time": "2020-06-18T04:08:47.563Z"
    }
   },
   "outputs": [],
   "source": [
    "expected[:5]"
   ]
  },
  {
   "cell_type": "code",
   "execution_count": null,
   "metadata": {
    "ExecuteTime": {
     "end_time": "2020-06-18T04:10:21.593172Z",
     "start_time": "2020-06-18T04:08:47.564Z"
    }
   },
   "outputs": [],
   "source": [
    "results_df = pd.DataFrame(expected.values, columns=[\"expected\"])\n",
    "results_df[\"predicted_original\"] = predicted_original\n",
    "results_df[\"predicted_selected\"] = predicted_selected\n",
    "results_df.head()"
   ]
  },
  {
   "cell_type": "markdown",
   "metadata": {},
   "source": [
    "### Mean squared error"
   ]
  },
  {
   "cell_type": "code",
   "execution_count": null,
   "metadata": {
    "ExecuteTime": {
     "end_time": "2020-06-18T04:10:21.593766Z",
     "start_time": "2020-06-18T04:08:47.566Z"
    }
   },
   "outputs": [],
   "source": [
    "from sklearn.metrics import mean_squared_error\n",
    "\n",
    "print(\"Original results:\")\n",
    "print(\"\\tmean squared error : \", mean_squared_error(expected, predicted_original))\n",
    "print(\"Selected results:\")\n",
    "print(\"\\tmean squared error: \", mean_squared_error(expected, predicted_selected))"
   ]
  },
  {
   "cell_type": "markdown",
   "metadata": {},
   "source": [
    "### Obtain the equation of regression model"
   ]
  },
  {
   "cell_type": "code",
   "execution_count": null,
   "metadata": {
    "ExecuteTime": {
     "end_time": "2020-06-18T04:10:21.594472Z",
     "start_time": "2020-06-18T04:08:47.569Z"
    }
   },
   "outputs": [],
   "source": [
    "select.get_support()"
   ]
  },
  {
   "cell_type": "code",
   "execution_count": null,
   "metadata": {
    "ExecuteTime": {
     "end_time": "2020-06-18T04:10:21.595092Z",
     "start_time": "2020-06-18T04:08:47.570Z"
    }
   },
   "outputs": [],
   "source": [
    "features.columns"
   ]
  },
  {
   "cell_type": "code",
   "execution_count": null,
   "metadata": {
    "ExecuteTime": {
     "end_time": "2020-06-18T04:10:21.595751Z",
     "start_time": "2020-06-18T04:08:47.571Z"
    }
   },
   "outputs": [],
   "source": [
    "model_selected.coef_"
   ]
  },
  {
   "cell_type": "code",
   "execution_count": null,
   "metadata": {
    "ExecuteTime": {
     "end_time": "2020-06-18T04:10:21.597202Z",
     "start_time": "2020-06-18T04:08:47.572Z"
    }
   },
   "outputs": [],
   "source": [
    "model_selected.intercept_"
   ]
  },
  {
   "cell_type": "markdown",
   "metadata": {},
   "source": [
    "\\begin{equation}\n",
    "Mean  Amount = 2.32 MaxBuy - 1.04 Spread + 0.09\n",
    "\\end{equation}\n",
    "                                                                                            * period: 30 min"
   ]
  },
  {
   "cell_type": "markdown",
   "metadata": {},
   "source": [
    "### Determine correlation"
   ]
  },
  {
   "cell_type": "code",
   "execution_count": null,
   "metadata": {
    "ExecuteTime": {
     "end_time": "2020-06-18T04:10:21.597752Z",
     "start_time": "2020-06-18T04:08:47.574Z"
    }
   },
   "outputs": [],
   "source": [
    "from scipy import stats"
   ]
  },
  {
   "cell_type": "code",
   "execution_count": null,
   "metadata": {
    "ExecuteTime": {
     "end_time": "2020-06-18T04:10:21.598314Z",
     "start_time": "2020-06-18T04:08:47.575Z"
    }
   },
   "outputs": [],
   "source": [
    "def get_correlation(df):\n",
    "    column = list(df)\n",
    "    for i in range(len(column)):\n",
    "        if i < 2: \n",
    "            r, p = stats.pearsonr(df[column[i]], df[column[i+1]])\n",
    "            print(\"correlation coefficient between\",column[i], \"and\",column[i+1],\": \", r, \", p-value:\", p)\n",
    "\n",
    "            r, p = stats.pearsonr(df[column[i]], df[column[i+2]])\n",
    "            print(\"correlation coefficient between\",column[i], \"and\",column[i+2],\": \", r, \", p-value:\", p)\n",
    "\n",
    "            r, p = stats.pearsonr(df[column[i]], df[column[i+3]])\n",
    "            print(\"correlation coefficient between\",column[i], \"and\",column[i+3],\": \", r, \", p-value:\", p)\n",
    "\n",
    "        elif i == 2:\n",
    "            r, p = stats.pearsonr(df[column[i]], df[column[i+1]])\n",
    "            print(\"correlation coefficient between\",column[i], \"and\",column[i+1],\": \", r, \", p-value:\", p)\n",
    "\n",
    "            r, p = stats.pearsonr(df[column[i]], df[column[i+2]])\n",
    "            print(\"correlation coefficient between\",column[i], \"and\",column[i+2],\": \", r, \", p-value:\", p)\n",
    "\n",
    "        elif i == 3:\n",
    "            r, p = stats.pearsonr(df[column[i]], df[column[i+1]])\n",
    "            print(\"correlation coefficient between\",column[i], \"and\",column[i+1],\": \", r, \", p-value:\", p)"
   ]
  },
  {
   "cell_type": "code",
   "execution_count": null,
   "metadata": {
    "ExecuteTime": {
     "end_time": "2020-06-18T04:10:21.598897Z",
     "start_time": "2020-06-18T04:08:47.576Z"
    }
   },
   "outputs": [],
   "source": [
    "get_correlation(df)"
   ]
  },
  {
   "cell_type": "markdown",
   "metadata": {},
   "source": [
    "**Based on characteristic of correlation coefficient,**\n",
    "    - Correlation coefficient is close to 1: strong positive correlation\n",
    "    - Correlation coefficient is close to 0: no correlation\n",
    "    - Correlation coefficient is close to -1: negative positive correlation\n",
    "\n",
    "Correlation between mean amount and max_buy is the most positive corelation. This result is intuitive in that the more people buy cryptocurrency, the more amount of transaction will be held. Notably, correlation between max_buy and spread will be disregarded because spread is affected a lot from max_buy when it's calculated. So, it is obvious that the coefficient value is close to 1. Then, Correlation between volume and min_sell was the most negative correlation in this dataset. Since the value -0.03 is very close to 0, it can be also said that there is slightly negative correlation between volume and min_sell, but they almost don't relate each other. \n",
    "\n",
    "\n",
    "**Hypothesis: Which features are most correlated with each other?**\n",
    "\n",
    "Therefore, the answer for this hypothsis is \"mean amount\" and \"max_buy\". "
   ]
  },
  {
   "cell_type": "markdown",
   "metadata": {},
   "source": [
    "### Visualize the result of regression"
   ]
  },
  {
   "cell_type": "code",
   "execution_count": null,
   "metadata": {
    "ExecuteTime": {
     "end_time": "2020-06-18T04:10:21.599458Z",
     "start_time": "2020-06-18T04:08:47.578Z"
    },
    "scrolled": false
   },
   "outputs": [],
   "source": [
    "import plotly.express as px\n",
    "import plotly.graph_objects as go\n",
    "#produce the scatter plot\n",
    "graph = px.scatter(results_df, x=\"expected\", y=\"predicted_selected\", \n",
    "                   template=\"none\", color=\"predicted_selected\", opacity=.8, \n",
    "                   title=\"Expected vs. predicted with selected features\")\n",
    "\n",
    "#add the \"perfect prediction\" line; this is not the regression line\n",
    "graph.update_layout(\n",
    "    \n",
    "    shapes=[    \n",
    "        go.layout.Shape(\n",
    "            type=\"line\",\n",
    "            x0=0, y0=0,\n",
    "            x1=5, y1=5,\n",
    "            line=dict(color=\"coral\", width=2, dash=\"dash\")\n",
    "        )\n",
    "    ]\n",
    ")\n",
    "\n",
    "#need to change axes limits; otherwise, plotly will auto-scale, leading to confusion\n",
    "graph.update_layout(xaxis = dict(range = [0,0.5]))\n",
    "graph.update_layout(yaxis = dict(range = [0,0.5]))\n",
    "\n",
    "graph.show()"
   ]
  },
  {
   "cell_type": "markdown",
   "metadata": {},
   "source": [
    "##### Interpretation\n",
    "\n",
    "this graph is a scatter plot with regression line of expected and predicted values with selected features. X axis is expected value and Y axis is predicted value. As shown in this plot, the dots are scatterd, but stays between 0 and 1. This is because we used MinMaxScaler() to fit all values between 0 and 1. Also, the regression line is positive. While the dots are scattered, the line trends them. "
   ]
  },
  {
   "attachments": {
    "newplot%20%281%29.png": {
     "image/png": "[encoded data removed]"
    }
   },
   "cell_type": "markdown",
   "metadata": {},
   "source": [
    "![newplot%20%281%29.png](attachment:newplot%20%281%29.png)"
   ]
  },
  {
   "cell_type": "markdown",
   "metadata": {},
   "source": [
    "<a id=\"4\"></a>\n",
    "<hr style=\"height:2px; border:none; color:black; background-color:black;\">"
   ]
  },
  {
   "cell_type": "markdown",
   "metadata": {},
   "source": [
    "## 4. DISCUSSION\n",
    "#### Classifiction Model:\n",
    "\n",
    "- Summary of classification model\n",
    "\n",
    "First, we get a dataset of trades and their information such as price, volume and type of each trade. We create some new features such as mid price, average price with different windows, difference of price and its derivatives. We apply One Hot Encoding on discrete variables. After we create some other features with use of unsupervised learning algorithms such as clustering. Then I check the correlation matrix of all features and drop all of them which have the absolute value of correlation more than 0.85. After we create a target variable which shows us the price movement in the next 4 hours - it is a discrete variable with two classes (either 0 if it is a negative difference or 1 otherwise). After we split data, taking 20% for testing. And finally we create a pipeline of 2 scaler models (MinMaxScaler and StandardScaler), 2 selector for feature selection (RFE and SelectKBest) and 4 classification models (RandomForestClassifier, ExtraTreesClassifier, AdaBoostClassifier and GradientBoostingClassifier). We didn’t use other classifiers since they do not give good predictive results on such chaotic data as financial. And we apply GridSearchCV on this pipeline with the data we have to test all possible variations of there 3 steps in the pipeline and simultaneously test many hyperparameters of these models. Then we simply check results and think about their meaning and importance.\n",
    "\n",
    "- Interpretation\n",
    "\n",
    "For model evaluation we used a balanced accuracy metric (basically ROC AUC score) which shows better understanding of our classification results, more precisely - binary classification. It differs from other metrics since it checks the weights of the correct and incorrect predictions for all classes we have in our target variable. For scaler purposes, we compared MinMaxScaler and StandardScaler. For feature selection purposes, we compared RFE and SelectKBest. For classification purposes, we compared RandomForestClassifier, ExtraTreesClassifier, AdaBoostClassifier and GradientBoostingClassifier. We did not use other classifiers since they do not give good predictive results on such chaotic data as financial. The RandomForestClassifier proved to be the best predictive function with a max score of 57.25%\n",
    "\n",
    "\n",
    "Our hypotheses was that our best classification model will be 60% accurate or more. Therefore, this hypothesis can be disprove. We can with some accuracy and a certain level of confidence. This sphere of life is too uncertain and unpredictable, but still we can find in it some patterns which can help in order to make something more complex. \n",
    "\n",
    "\n",
    "- Future Work\n",
    "\n",
    "Almost everything in our world is about analysis and more certainly about behavior and relationships analysis. As I already mentioned we can use our insights and steps we do in many other fields such as physics and etc. This research shows us how unpredictable data in the finance field is and we can definitely use this experience and results in the future to set up any kind of trading bots on any crypto currency markets. Of  course we will need to do more backtesting before deploying the final version on the real market but this is the first step in the long journey of analyzing data. As a future work we can use bigger datasets to find more patterns. We can create more technical features based on our raw dataset. ANd finally maybe we will find the Holy Grail in this field)"
   ]
  },
  {
   "cell_type": "markdown",
   "metadata": {},
   "source": [
    "##### Regression model:\n",
    "\n",
    "- Summary of regression\n",
    "\n",
    "In regression analysis, the mean amount of transaction was taken as target, and volume, min_sell, max_buy, and spread were used as features to predict the mean amount of transaction. These features were created from the original dataset. The variables were scaled by MinMaxScaler(), and two of the four features were selected by univariate feature selection. Then, LinearRegression() was used to make a model, and r2_score and mean squared error were computed. With the result, the graph of the regression model was created. \n",
    "\n",
    "- Interpretation of regression analysis\n",
    "\n",
    "Throughout this regression analysis, some numerical results were presented. First of all, r2_score, which represents how straight the regression line is. The R2_score of the training set with selected features was 0.38 while the one of the testing set was 0.27. It is predictable that the r2_score on the testing set is lower than the one on the training set. Second, mean squared error was calculated as 0.02. Since a model is perfect if  the mean squared error is 0, the value of 0.02 is pretty much close to 0. Therefore, it can be concluded that the model is nearly perfect. Once all of linear regression algorithms were conducted, the equation with coefficients and intercept was obtained to predict the mean amount of transactions. \n",
    "\n",
    "In this regression segment, two questions were addressed. First question was, “Will the volume, which represents the total amount of transactions, increase every two weeks because people receive their salary?”. By plotting the graph of volume over each two week, the question was tried to answer. As a result, there are peaks at the beginning of each month and drop/raise in the middle of a month. However, it cannot be provided as a complete answer because we never know if salary directly affects cryptocurrency. Then, another question, “ Which features are most correlated with each other?”, was addressed by using pearsonr. As a result, the correlation between \"mean amount\" and \"max_buy” was the most positive. The correlation coefficient was 0.6. This represents that the more people buy the currency, the more amount of transaction is. \n",
    "\n",
    "- Future work\n",
    "\n",
    "The main part of this project was  a classification analysis with supervised learning and the optional part was regression analysis. Despite its optional segment, we could confirm two questions and provide a graph of the linear regression. To make this regression analysis more effectively, it would be better if we use time-based analysis. Next time, we would like to find a way to tackle financial data over time with regression. \n",
    "\n"
   ]
  },
  {
   "cell_type": "markdown",
   "metadata": {},
   "source": [
    "<a id=\"5\"></a>\n",
    "<hr style=\"height:2px; border:none; color:black; background-color:black;\">"
   ]
  },
  {
   "cell_type": "markdown",
   "metadata": {},
   "source": [
    "## 5. Reference\n",
    "1. CryptoDataDownload \n",
    "Retrieved from https://www.cryptodatadownload.com/data/gemini/\n",
    "\n",
    "2. BitMart\n",
    "Retrieved from https://bitmart.zendesk.com/hc/en-us/articles/360045109174-Understanding-the-Liquidity-from-your-Order-Book-Spread-Depth-and-Slippage"
   ]
  },
  {
   "cell_type": "markdown",
   "metadata": {},
   "source": [
    "### CONTRIBUTIONS\n",
    "David:\n",
    "- Worked on the classification part\n",
    "- Completed and revised all writing segments\n",
    "\n",
    "Mark: \n",
    "- Wrote methodology \n",
    "- Worked on the entire classification part\n",
    "\n",
    "Manami: \n",
    "- Wrote introduction\n",
    "- Worked on the entire regression part"
   ]
  },
  {
   "cell_type": "code",
   "execution_count": null,
   "metadata": {},
   "outputs": [],
   "source": []
  }
 ],
 "metadata": {
  "kernelspec": {
   "display_name": "Python 3",
   "language": "python",
   "name": "python3"
  },
  "language_info": {
   "codemirror_mode": {
    "name": "ipython",
    "version": 3
   },
   "file_extension": ".py",
   "mimetype": "text/x-python",
   "name": "python",
   "nbconvert_exporter": "python",
   "pygments_lexer": "ipython3",
   "version": "3.7.7"
  }
 },
 "nbformat": 4,
 "nbformat_minor": 2
}
